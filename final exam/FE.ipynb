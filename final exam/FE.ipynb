{
 "cells": [
  {
   "cell_type": "markdown",
   "metadata": {},
   "source": [
    "1. Write a python program to print the matrix of 4 x 4 using List."
   ]
  },
  {
   "cell_type": "code",
   "execution_count": 4,
   "metadata": {},
   "outputs": [
    {
     "name": "stdout",
     "output_type": "stream",
     "text": [
      "[1, 2, 3, 4]\n",
      "[5, 6, 7, 8]\n",
      "[9, 10, 11, 12]\n",
      "[13, 14, 15, 16]\n"
     ]
    }
   ],
   "source": [
    "matrix = [[1, 2, 3, 4],\n",
    "          [5, 6, 7, 8],\n",
    "          [9, 10, 11, 12],\n",
    "          [13, 14, 15, 16]]\n",
    "\n",
    "for row in matrix:\n",
    "    print(row)"
   ]
  },
  {
   "cell_type": "markdown",
   "metadata": {},
   "source": [
    " 3. Write a python & create a class named Employee with attributes name, position, and salary. Write a method to calculate the annual salary of the employee.\n"
   ]
  },
  {
   "cell_type": "code",
   "execution_count": 5,
   "metadata": {},
   "outputs": [
    {
     "name": "stdout",
     "output_type": "stream",
     "text": [
      "John Doe earns $600000 annually as a Manager.\n"
     ]
    }
   ],
   "source": [
    "class Employee:\n",
    "    def __init__(self, name, position, salary):\n",
    "        self.name = name\n",
    "        self.position = position\n",
    "        self.salary = salary\n",
    "\n",
    "    def calculate_annual_salary(self):\n",
    "        return self.salary * 12\n",
    "\n",
    "# Example usage:\n",
    "employee = Employee(\"John Doe\", \"Manager\", 50000)\n",
    "annual_salary = employee.calculate_annual_salary()\n",
    "print(f\"{employee.name} earns ${annual_salary} annually as a {employee.position}.\")\n"
   ]
  },
  {
   "cell_type": "markdown",
   "metadata": {},
   "source": [
    "4. Write a program that reads a CSV file and extracts specific columns from it, also handles a file-not- found error and prints a custom error message."
   ]
  },
  {
   "cell_type": "code",
   "execution_count": 6,
   "metadata": {},
   "outputs": [
    {
     "name": "stdout",
     "output_type": "stream",
     "text": [
      "Error: File 'data.csv' not found.\n"
     ]
    }
   ],
   "source": [
    "import csv\n",
    "\n",
    "file_path = 'data.csv'  # Replace 'data.csv' with your CSV file path\n",
    "columns_to_extract = [0, 2]  # Replace with the indices of the columns you want to extract (0-based)\n",
    "\n",
    "try:\n",
    "    with open(file_path, 'r') as file:\n",
    "        reader = csv.reader(file)\n",
    "        \n",
    "        # Create a list to store the extracted columns\n",
    "        extracted_columns = []\n",
    "\n",
    "        for row in reader:\n",
    "            # Check if the row has enough columns to extract\n",
    "            if all(col_index < len(row) for col_index in columns_to_extract):\n",
    "                selected_data = [row[col_index] for col_index in columns_to_extract]\n",
    "                extracted_columns.append(selected_data)\n",
    "            else:\n",
    "                print(f\"Skipping row with not enough columns: {row}\")\n",
    "\n",
    "        # Print the extracted columns\n",
    "        for data in extracted_columns:\n",
    "            print(data)\n",
    "except FileNotFoundError:\n",
    "    print(f\"Error: File '{file_path}' not found.\")\n",
    "except Exception as e:\n",
    "    print(f\"An error occurred: {e}\")\n"
   ]
  },
  {
   "cell_type": "markdown",
   "metadata": {},
   "source": [
    "9. Write a Python Program to Multiply Two Matrices and check resultant matrix order."
   ]
  },
  {
   "cell_type": "code",
   "execution_count": 7,
   "metadata": {},
   "outputs": [
    {
     "name": "stdout",
     "output_type": "stream",
     "text": [
      "Matrix A:\n",
      "[[1 2 3]\n",
      " [4 5 6]\n",
      " [7 8 9]]\n",
      "\n",
      "Matrix B:\n",
      "[[9 8 7]\n",
      " [6 5 4]\n",
      " [3 2 1]]\n",
      "\n",
      "Resultant Matrix:\n",
      "[[ 30  24  18]\n",
      " [ 84  69  54]\n",
      " [138 114  90]]\n",
      "\n",
      "Order of Resultant Matrix: (3, 3)\n"
     ]
    }
   ],
   "source": [
    "import numpy as np\n",
    "\n",
    "# Define two matrices A and B\n",
    "A = np.array([[1, 2, 3],\n",
    "              [4, 5, 6],\n",
    "              [7, 8, 9]])\n",
    "\n",
    "B = np.array([[9, 8, 7],\n",
    "              [6, 5, 4],\n",
    "              [3, 2, 1]])\n",
    "\n",
    "# Check if the number of columns in A is equal to the number of rows in B for matrix multiplication\n",
    "if A.shape[1] != B.shape[0]:\n",
    "    print(\"Matrix multiplication not possible due to incompatible dimensions.\")\n",
    "else:\n",
    "    # Multiply the matrices\n",
    "    result = np.dot(A, B)\n",
    "\n",
    "    # Get the shape (order) of the resultant matrix\n",
    "    order = result.shape\n",
    "\n",
    "    print(\"Matrix A:\")\n",
    "    print(A)\n",
    "    print(\"\\nMatrix B:\")\n",
    "    print(B)\n",
    "    print(\"\\nResultant Matrix:\")\n",
    "    print(result)\n",
    "    print(\"\\nOrder of Resultant Matrix:\", order)\n"
   ]
  },
  {
   "cell_type": "markdown",
   "metadata": {},
   "source": [
    "2. Find the python program to find the odd numbers in the list of numbers entered by user."
   ]
  },
  {
   "cell_type": "code",
   "execution_count": 3,
   "metadata": {},
   "outputs": [
    {
     "name": "stdout",
     "output_type": "stream",
     "text": [
      "Odd numbers in the list: [1]\n"
     ]
    }
   ],
   "source": [
    "# Input: Get a list of numbers from the user\n",
    "num_list = input(\"Enter a list of numbers separated by spaces: \").split()\n",
    "\n",
    "# Convert the input to a list of integers\n",
    "num_list = [int(num) for num in num_list]\n",
    "\n",
    "# Initialize an empty list to store odd numbers\n",
    "odd_numbers = []\n",
    "\n",
    "# Iterate through the list and check for odd numbers\n",
    "for num in num_list:\n",
    "    if num % 2 != 0:\n",
    "        odd_numbers.append(num)\n",
    "\n",
    "# Print the odd numbers\n",
    "if odd_numbers:\n",
    "    print(\"Odd numbers in the list:\", odd_numbers)\n",
    "else:\n",
    "    print(\"No odd numbers found in the list.\")"
   ]
  }
 ],
 "metadata": {
  "kernelspec": {
   "display_name": "base",
   "language": "python",
   "name": "python3"
  },
  "language_info": {
   "codemirror_mode": {
    "name": "ipython",
    "version": 3
   },
   "file_extension": ".py",
   "mimetype": "text/x-python",
   "name": "python",
   "nbconvert_exporter": "python",
   "pygments_lexer": "ipython3",
   "version": "3.10.9"
  },
  "orig_nbformat": 4
 },
 "nbformat": 4,
 "nbformat_minor": 2
}
