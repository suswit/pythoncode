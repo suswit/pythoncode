{
 "cells": [
  {
   "attachments": {},
   "cell_type": "markdown",
   "metadata": {},
   "source": [
    "Pyhon program to Add two numbers"
   ]
  },
  {
   "cell_type": "code",
   "execution_count": 21,
   "metadata": {},
   "outputs": [
    {
     "name": "stdout",
     "output_type": "stream",
     "text": [
      "134\n",
      "<class 'int'>\n"
     ]
    }
   ],
   "source": [
    "x=45+89\n",
    "print(x)\n",
    "print(type(x))"
   ]
  },
  {
   "attachments": {},
   "cell_type": "markdown",
   "metadata": {},
   "source": [
    "Python Program to Find the Square Root"
   ]
  },
  {
   "cell_type": "code",
   "execution_count": 22,
   "metadata": {},
   "outputs": [
    {
     "name": "stdout",
     "output_type": "stream",
     "text": [
      "The square root of 8.000 is 2.828\n"
     ]
    }
   ],
   "source": [
    "num=8\n",
    "num_sqrt=num**0.5\n",
    "print('The square root of %0.3f is %0.3f'%(num,num_sqrt))"
   ]
  },
  {
   "attachments": {},
   "cell_type": "markdown",
   "metadata": {},
   "source": [
    "Python Program to Calculate the Area of Triangle "
   ]
  },
  {
   "cell_type": "code",
   "execution_count": 23,
   "metadata": {},
   "outputs": [
    {
     "name": "stdout",
     "output_type": "stream",
     "text": [
      "The area of the Triangle is 13.42\n"
     ]
    }
   ],
   "source": [
    "a=9\n",
    "b=4\n",
    "c=7\n",
    "\n",
    "# a=float(input('Enter irst side: '))\n",
    "# b=float(input('Enter second side: '))\n",
    "# c=float(input('Enter third side: '))\n",
    "\n",
    "#calculate the semi-perimeter\n",
    "s=(a+b+c)/2\n",
    "\n",
    "#calculate the area\n",
    "area=(s*(s-a)*(s-b)*(s-c))**0.5\n",
    "print('The area of the Triangle is %0.2f' %area)"
   ]
  },
  {
   "attachments": {},
   "cell_type": "markdown",
   "metadata": {},
   "source": [
    "Python Program for simple interest"
   ]
  },
  {
   "cell_type": "code",
   "execution_count": 42,
   "metadata": {},
   "outputs": [
    {
     "name": "stdout",
     "output_type": "stream",
     "text": [
      "The Principal Amount is 6\n",
      "The Time Period is 9\n",
      "The Rate of Interest is 5\n",
      "The simple interst is 2.7\n"
     ]
    }
   ],
   "source": [
    "def simple_interest(p,t,r):\n",
    "    print('The Principal Amount is', p)\n",
    "    print('The Time Period is', t)\n",
    "    print('The Rate of Interest is', r)\n",
    "\n",
    "    si=(p*t*r)/100\n",
    "\n",
    "    print('The simple interst is', si)\n",
    "\n",
    "    n=si\n",
    "\n",
    "simple_interest(6,9,5)\n"
   ]
  },
  {
   "attachments": {},
   "cell_type": "markdown",
   "metadata": {},
   "source": [
    "Python Program for compound interest"
   ]
  },
  {
   "cell_type": "code",
   "execution_count": 9,
   "metadata": {},
   "outputs": [
    {
     "name": "stdout",
     "output_type": "stream",
     "text": [
      "53460.70941802507\n"
     ]
    }
   ],
   "source": [
    "p=int(input('ENTER THE PRINCIPLE AMOUNT'))\n",
    "t=int(input('ENTER THE TIME'))\n",
    "r=int(input('ENTER THE RATE OF AMOUNT'))\n",
    "\n",
    "   \n",
    "def compint(p,t,r):\n",
    "    a=p*(1+(r/100))**t\n",
    "    ci=a-p\n",
    "    return ci\n",
    "\n",
    "ans=compint(p,t,r)\n",
    "print(ans)"
   ]
  },
  {
   "attachments": {},
   "cell_type": "markdown",
   "metadata": {},
   "source": [
    "Python Program for Program to find area of Circle"
   ]
  },
  {
   "cell_type": "code",
   "execution_count": 11,
   "metadata": {},
   "outputs": [
    {
     "name": "stdout",
     "output_type": "stream",
     "text": [
      "Area is 78.550000\n"
     ]
    }
   ],
   "source": [
    "def findArea(r):\n",
    "    PI = 3.142\n",
    "    return PI * (r*r);\n",
    "print(\"Area is %.6f\" % findArea(5));"
   ]
  },
  {
   "attachments": {},
   "cell_type": "markdown",
   "metadata": {},
   "source": [
    "Python Program to Swap Two Variables"
   ]
  },
  {
   "cell_type": "code",
   "execution_count": 12,
   "metadata": {},
   "outputs": [
    {
     "name": "stdout",
     "output_type": "stream",
     "text": [
      "Value of x: 50\n",
      "Value of y: 10\n"
     ]
    }
   ],
   "source": [
    "x = 10\n",
    "y = 50\n",
    " \n",
    "# Swapping of two variables\n",
    "# Using third variable\n",
    "temp = x\n",
    "x = y\n",
    "y = temp\n",
    " \n",
    "print(\"Value of x:\", x)\n",
    "print(\"Value of y:\", y)"
   ]
  },
  {
   "attachments": {},
   "cell_type": "markdown",
   "metadata": {},
   "source": [
    "Python Program to Generate a Random Number\n"
   ]
  },
  {
   "cell_type": "code",
   "execution_count": 13,
   "metadata": {},
   "outputs": [
    {
     "name": "stdout",
     "output_type": "stream",
     "text": [
      "0.5650650099025228\n"
     ]
    }
   ],
   "source": [
    "import random\n",
    "num = random.random()\n",
    "print(num)"
   ]
  },
  {
   "attachments": {},
   "cell_type": "markdown",
   "metadata": {},
   "source": [
    "Python Program to Convert Kilometers to Miles"
   ]
  }
 ],
 "metadata": {
  "kernelspec": {
   "display_name": "Python 3",
   "language": "python",
   "name": "python3"
  },
  "language_info": {
   "codemirror_mode": {
    "name": "ipython",
    "version": 3
   },
   "file_extension": ".py",
   "mimetype": "text/x-python",
   "name": "python",
   "nbconvert_exporter": "python",
   "pygments_lexer": "ipython3",
   "version": "3.11.2"
  },
  "orig_nbformat": 4
 },
 "nbformat": 4,
 "nbformat_minor": 2
}
