{
 "cells": [
  {
   "attachments": {},
   "cell_type": "markdown",
   "metadata": {},
   "source": [
    "1. Pyhon program to Add two numbers"
   ]
  },
  {
   "cell_type": "code",
   "execution_count": 21,
   "metadata": {},
   "outputs": [
    {
     "name": "stdout",
     "output_type": "stream",
     "text": [
      "134\n",
      "<class 'int'>\n"
     ]
    }
   ],
   "source": [
    "x=45+89\n",
    "print(x)\n",
    "print(type(x))"
   ]
  },
  {
   "attachments": {},
   "cell_type": "markdown",
   "metadata": {},
   "source": [
    "2. Python Program to Find the Square Root"
   ]
  },
  {
   "cell_type": "code",
   "execution_count": 22,
   "metadata": {},
   "outputs": [
    {
     "name": "stdout",
     "output_type": "stream",
     "text": [
      "The square root of 8.000 is 2.828\n"
     ]
    }
   ],
   "source": [
    "num=8\n",
    "num_sqrt=num**0.5\n",
    "print('The square root of %0.3f is %0.3f'%(num,num_sqrt))"
   ]
  },
  {
   "attachments": {},
   "cell_type": "markdown",
   "metadata": {},
   "source": [
    "3. Python Program to Calculate the Area of Triangle "
   ]
  },
  {
   "cell_type": "code",
   "execution_count": 23,
   "metadata": {},
   "outputs": [
    {
     "name": "stdout",
     "output_type": "stream",
     "text": [
      "The area of the Triangle is 13.42\n"
     ]
    }
   ],
   "source": [
    "a=9\n",
    "b=4\n",
    "c=7\n",
    "\n",
    "# a=float(input('Enter irst side: '))\n",
    "# b=float(input('Enter second side: '))\n",
    "# c=float(input('Enter third side: '))\n",
    "\n",
    "#calculate the semi-perimeter\n",
    "s=(a+b+c)/2\n",
    "\n",
    "#calculate the area\n",
    "area=(s*(s-a)*(s-b)*(s-c))**0.5\n",
    "print('The area of the Triangle is %0.2f' %area)"
   ]
  },
  {
   "attachments": {},
   "cell_type": "markdown",
   "metadata": {},
   "source": [
    "4. Python Program for simple interest"
   ]
  },
  {
   "cell_type": "code",
   "execution_count": 42,
   "metadata": {},
   "outputs": [
    {
     "name": "stdout",
     "output_type": "stream",
     "text": [
      "The Principal Amount is 6\n",
      "The Time Period is 9\n",
      "The Rate of Interest is 5\n",
      "The simple interst is 2.7\n"
     ]
    }
   ],
   "source": [
    "def simple_interest(p,t,r):\n",
    "    print('The Principal Amount is', p)\n",
    "    print('The Time Period is', t)\n",
    "    print('The Rate of Interest is', r)\n",
    "\n",
    "    si=(p*t*r)/100\n",
    "\n",
    "    print('The simple interst is', si)\n",
    "\n",
    "    n=si\n",
    "\n",
    "simple_interest(6,9,5)\n"
   ]
  },
  {
   "attachments": {},
   "cell_type": "markdown",
   "metadata": {},
   "source": [
    "5. Python Program for compound interest"
   ]
  },
  {
   "cell_type": "code",
   "execution_count": 9,
   "metadata": {},
   "outputs": [
    {
     "name": "stdout",
     "output_type": "stream",
     "text": [
      "53460.70941802507\n"
     ]
    }
   ],
   "source": [
    "p=int(input('ENTER THE PRINCIPLE AMOUNT'))\n",
    "t=int(input('ENTER THE TIME'))\n",
    "r=int(input('ENTER THE RATE OF AMOUNT'))\n",
    "\n",
    "   \n",
    "def compint(p,t,r):\n",
    "    a=p*(1+(r/100))**t\n",
    "    ci=a-p\n",
    "    return ci\n",
    "\n",
    "ans=compint(p,t,r)\n",
    "print(ans)"
   ]
  },
  {
   "attachments": {},
   "cell_type": "markdown",
   "metadata": {},
   "source": [
    "6. Python Program for Program to find area of Circle"
   ]
  },
  {
   "cell_type": "code",
   "execution_count": 11,
   "metadata": {},
   "outputs": [
    {
     "name": "stdout",
     "output_type": "stream",
     "text": [
      "Area is 78.550000\n"
     ]
    }
   ],
   "source": [
    "def findArea(r):\n",
    "    PI = 3.142\n",
    "    return PI * (r*r);\n",
    "print(\"Area is %.6f\" % findArea(5));"
   ]
  },
  {
   "attachments": {},
   "cell_type": "markdown",
   "metadata": {},
   "source": [
    "7. Python Program to Swap Two Variables"
   ]
  },
  {
   "cell_type": "code",
   "execution_count": 12,
   "metadata": {},
   "outputs": [
    {
     "name": "stdout",
     "output_type": "stream",
     "text": [
      "Value of x: 50\n",
      "Value of y: 10\n"
     ]
    }
   ],
   "source": [
    "x = 10\n",
    "y = 50\n",
    " \n",
    "# Swapping of two variables\n",
    "# Using third variable\n",
    "temp = x\n",
    "x = y\n",
    "y = temp\n",
    " \n",
    "print(\"Value of x:\", x)\n",
    "print(\"Value of y:\", y)"
   ]
  },
  {
   "attachments": {},
   "cell_type": "markdown",
   "metadata": {},
   "source": [
    "8. Python Program to Generate a Random Number\n"
   ]
  },
  {
   "cell_type": "code",
   "execution_count": 13,
   "metadata": {},
   "outputs": [
    {
     "name": "stdout",
     "output_type": "stream",
     "text": [
      "0.5650650099025228\n"
     ]
    }
   ],
   "source": [
    "import random\n",
    "num = random.random()\n",
    "print(num)"
   ]
  },
  {
   "attachments": {},
   "cell_type": "markdown",
   "metadata": {},
   "source": [
    "9. Python Program to Convert Kilometers to Miles"
   ]
  },
  {
   "cell_type": "code",
   "execution_count": 1,
   "metadata": {},
   "outputs": [
    {
     "name": "stdout",
     "output_type": "stream",
     "text": [
      "5.500 kilometers is equal to 3.418 miles\n",
      "6.500 kilometers is equal to 4.039 miles\n"
     ]
    }
   ],
   "source": [
    "# driver code\n",
    "kilometers = 5.5\n",
    " \n",
    "# conversion factor\n",
    "conv = 0.621371\n",
    " \n",
    "# calculate miles\n",
    "miles = kilometers * conv\n",
    "print('%0.3f kilometers is equal to %0.3f miles' % (kilometers, miles))\n",
    " \n",
    "# example 2\n",
    "kilometers = 6.5\n",
    " \n",
    "# calculate miles\n",
    "miles = kilometers * conv\n",
    "print('%0.3f kilometers is equal to %0.3f miles' % (kilometers, miles))"
   ]
  },
  {
   "attachments": {},
   "cell_type": "markdown",
   "metadata": {},
   "source": [
    "10. Python Program to Check if a Number is Positive, Negative or 0"
   ]
  },
  {
   "cell_type": "code",
   "execution_count": 3,
   "metadata": {},
   "outputs": [
    {
     "name": "stdout",
     "output_type": "stream",
     "text": [
      "Positive\n",
      "Equal to zero\n",
      "Negative\n"
     ]
    }
   ],
   "source": [
    "\n",
    "# Python program to check whether\n",
    "# the number is positive, negative\n",
    "# or equal to zero\n",
    " \n",
    "def check(n):\n",
    "     \n",
    "    # if the number is positive\n",
    "    if n > 0:\n",
    "        print(\"Positive\")\n",
    "         \n",
    "    # if the number is negative\n",
    "    elif n < 0:\n",
    "        print(\"Negative\")\n",
    "         \n",
    "    # if the number is equal to\n",
    "    # zero\n",
    "    else:\n",
    "        print(\"Equal to zero\")\n",
    "         \n",
    "# Driver Code\n",
    "check(5)\n",
    "check(0)\n",
    "check(-5)"
   ]
  },
  {
   "attachments": {},
   "cell_type": "markdown",
   "metadata": {},
   "source": [
    "11. Python Program to Check if a Number is Odd or Even"
   ]
  },
  {
   "cell_type": "code",
   "execution_count": 5,
   "metadata": {},
   "outputs": [
    {
     "name": "stdout",
     "output_type": "stream",
     "text": [
      "2 Is Even Number\n"
     ]
    }
   ],
   "source": [
    "\n",
    "x = 2\n",
    "# x= 41\n",
    "    \n",
    "if x % 2 == 0:\n",
    "    print(x,\"Is Even Number\")\n",
    "else:\n",
    "    print(x, \"Is Odd Number\")"
   ]
  },
  {
   "attachments": {},
   "cell_type": "markdown",
   "metadata": {},
   "source": [
    "12. Python Program to Find the Largest Among Three Numbers"
   ]
  },
  {
   "cell_type": "code",
   "execution_count": 6,
   "metadata": {},
   "outputs": [
    {
     "name": "stdout",
     "output_type": "stream",
     "text": [
      "14\n"
     ]
    }
   ],
   "source": [
    "\n",
    "# Python program to find the largest\n",
    "# number among the three numbers\n",
    " \n",
    "def maximum(a, b, c):\n",
    " \n",
    "    if (a >= b) and (a >= c):\n",
    "        largest = a\n",
    " \n",
    "    elif (b >= a) and (b >= c):\n",
    "        largest = b\n",
    "    else:\n",
    "        largest = c\n",
    "         \n",
    "    return largest\n",
    " \n",
    " \n",
    "# Driven code\n",
    "a = 10\n",
    "b = 14\n",
    "c = 12\n",
    "print(maximum(a, b, c))"
   ]
  },
  {
   "attachments": {},
   "cell_type": "markdown",
   "metadata": {},
   "source": [
    "13. Python Program to Check Prime Number"
   ]
  },
  {
   "cell_type": "code",
   "execution_count": 7,
   "metadata": {},
   "outputs": [
    {
     "name": "stdout",
     "output_type": "stream",
     "text": [
      "11 is a prime number\n"
     ]
    }
   ],
   "source": [
    "num = 11\n",
    "# If given number is greater than 1\n",
    "if num > 1:\n",
    "    # Iterate from 2 to n / 2\n",
    "    for i in range(2, int(num/2)+1):\n",
    "        # If num is divisible by any number between\n",
    "        # 2 and n / 2, it is not prime\n",
    "        if (num % i) == 0:\n",
    "            print(num, \"is not a prime number\")\n",
    "            break\n",
    "    else:\n",
    "        print(num, \"is a prime number\")\n",
    "else:\n",
    "    print(num, \"is not a prime number\")"
   ]
  },
  {
   "attachments": {},
   "cell_type": "markdown",
   "metadata": {},
   "source": [
    "14. Python Program to Print all Prime Numbers between 1 to 100"
   ]
  },
  {
   "cell_type": "code",
   "execution_count": 8,
   "metadata": {},
   "outputs": [
    {
     "name": "stdout",
     "output_type": "stream",
     "text": [
      "2 3 5 7 11 13 17 19 23 29 31 37 41 43 47 53 59 61 67 71 73 79 83 89 97 "
     ]
    }
   ],
   "source": [
    "\n",
    "# Python3 program to display Prime numbers till N\n",
    " \n",
    "#function to check if a given number is prime\n",
    "def isPrime(n):\n",
    "  #since 0 and 1 is not prime return false.\n",
    "  if(n==1 or n==0):\n",
    "    return False\n",
    "   \n",
    "  #Run a loop from 2 to n-1\n",
    "  for i in range(2,n):\n",
    "    #if the number is divisible by i, then n is not a prime number.\n",
    "    if(n%i==0):\n",
    "      return False\n",
    "   \n",
    "  #otherwise, n is prime number.\n",
    "  return True\n",
    " \n",
    " \n",
    " \n",
    "# Driver code\n",
    "N = 100;\n",
    "#check for every number from 1 to N\n",
    "for i in range(1,N+1):\n",
    "  #check if current number is prime\n",
    "  if(isPrime(i)):\n",
    "    print(i,end=\" \")"
   ]
  },
  {
   "attachments": {},
   "cell_type": "markdown",
   "metadata": {},
   "source": [
    "15. Python Program to Find the Factorial of a Number"
   ]
  },
  {
   "cell_type": "code",
   "execution_count": 9,
   "metadata": {},
   "outputs": [
    {
     "name": "stdout",
     "output_type": "stream",
     "text": [
      "Factorial of 5 is 120\n"
     ]
    }
   ],
   "source": [
    "# Python 3 program to find\n",
    "# factorial of given number\n",
    "def factorial(n):\n",
    "     \n",
    "    # single line to find factorial\n",
    "    return 1 if (n==1 or n==0) else n * factorial(n - 1)\n",
    " \n",
    "# Driver Code\n",
    "num = 5\n",
    "print(\"Factorial of\",num,\"is\",factorial(num))"
   ]
  },
  {
   "attachments": {},
   "cell_type": "markdown",
   "metadata": {},
   "source": [
    "16. Python Program to Print the Fibonacci sequence"
   ]
  },
  {
   "cell_type": "code",
   "execution_count": 10,
   "metadata": {},
   "outputs": [
    {
     "name": "stdout",
     "output_type": "stream",
     "text": [
      "34\n"
     ]
    }
   ],
   "source": [
    "\n",
    "# Function for nth Fibonacci number\n",
    "def Fibonacci(n):\n",
    "   \n",
    "    # Check if input is 0 then it will\n",
    "    # print incorrect input\n",
    "    if n < 0:\n",
    "        print(\"Incorrect input\")\n",
    " \n",
    "    # Check if n is 0\n",
    "    # then it will return 0\n",
    "    elif n == 0:\n",
    "        return 0\n",
    " \n",
    "    # Check if n is 1,2\n",
    "    # it will return 1\n",
    "    elif n == 1 or n == 2:\n",
    "        return 1\n",
    " \n",
    "    else:\n",
    "        return Fibonacci(n-1) + Fibonacci(n-2)\n",
    " \n",
    "# Driver Program\n",
    "print(Fibonacci(9))"
   ]
  },
  {
   "attachments": {},
   "cell_type": "markdown",
   "metadata": {},
   "source": [
    "17. Python Program to Find Numbers Divisible by Another Number"
   ]
  },
  {
   "cell_type": "code",
   "execution_count": 11,
   "metadata": {},
   "outputs": [
    {
     "name": "stdout",
     "output_type": "stream",
     "text": [
      "105\n",
      "140\n",
      "175\n"
     ]
    }
   ],
   "source": [
    "\n",
    "import math\n",
    " \n",
    "minimum = 100\n",
    "maximum = 200\n",
    " \n",
    "min_multiple = math.ceil(minimum / 35) * 35\n",
    "max_multiple = math.floor(maximum / 35) * 35\n",
    " \n",
    "result = range(min_multiple, max_multiple+1, 35)\n",
    " \n",
    "if result:\n",
    "    print(*result, sep='\\n')\n",
    "else:\n",
    "    print(\"No numbers found.\")"
   ]
  },
  {
   "attachments": {},
   "cell_type": "markdown",
   "metadata": {},
   "source": [
    "18. Python Program to Convert Decimal to Binary, Octal and Hexadecimal"
   ]
  },
  {
   "cell_type": "code",
   "execution_count": 12,
   "metadata": {},
   "outputs": [
    {
     "name": "stdout",
     "output_type": "stream",
     "text": [
      "32  in Binary :  0b100000\n",
      "32 in Octal :  0o40\n",
      "32  in Hexadecimal :  0x20\n"
     ]
    }
   ],
   "source": [
    "# Python program to convert decimal to binary,\n",
    "# octal and hexadecimal\n",
    " \n",
    "# Function to convert decimal to binary\n",
    "def decimal_to_binary(dec):\n",
    "    decimal = int(dec)\n",
    " \n",
    "    # Prints equivalent decimal\n",
    "    print(decimal, \" in Binary : \", bin(decimal))\n",
    " \n",
    "# Function to convert decimal to octal\n",
    "def decimal_to_octal(dec):\n",
    "    decimal = int(dec)\n",
    " \n",
    "    # Prints equivalent decimal\n",
    "    print(decimal, \"in Octal : \", oct(decimal))\n",
    " \n",
    "# Function to convert decimal to hexadecimal\n",
    "def decimal_to_hexadecimal(dec):\n",
    "    decimal = int(dec)\n",
    " \n",
    "    # Prints equivalent decimal\n",
    "    print(decimal, \" in Hexadecimal : \", hex(decimal))\n",
    " \n",
    "# Driver program\n",
    "dec = 32\n",
    "decimal_to_binary(dec)\n",
    "decimal_to_octal(dec)\n",
    "decimal_to_hexadecimal(dec)"
   ]
  },
  {
   "attachments": {},
   "cell_type": "markdown",
   "metadata": {},
   "source": [
    "19. Python Program to Find ASCII Value of Character"
   ]
  },
  {
   "cell_type": "code",
   "execution_count": 13,
   "metadata": {},
   "outputs": [
    {
     "name": "stdout",
     "output_type": "stream",
     "text": [
      "The ASCII value of 'g' is 103\n"
     ]
    }
   ],
   "source": [
    "# Python program to print \n",
    "# ASCII Value of Character\n",
    "  \n",
    "# In c we can assign different\n",
    "# characters of which we want ASCII value \n",
    "  \n",
    "c = 'g'\n",
    "# print the ASCII value of assigned character in c\n",
    "print(\"The ASCII value of '\" + c + \"' is\", ord(c))"
   ]
  },
  {
   "attachments": {},
   "cell_type": "markdown",
   "metadata": {},
   "source": [
    "20. Python Program to Find the Factors of a Number"
   ]
  },
  {
   "cell_type": "code",
   "execution_count": 14,
   "metadata": {},
   "outputs": [
    {
     "name": "stdout",
     "output_type": "stream",
     "text": [
      "The divisors of 100 are: \n",
      "1 2 4 5 10 20 25 50 100 "
     ]
    }
   ],
   "source": [
    "# Python implementation of Naive method\n",
    "# to print all divisors\n",
    "  \n",
    "# method to print the divisors\n",
    "def printDivisors(n) :\n",
    "    i = 1\n",
    "    while i <= n :\n",
    "        if (n % i==0) :\n",
    "            print (i,end=\" \")\n",
    "        i = i + 1\n",
    "          \n",
    "# Driver method\n",
    "print (\"The divisors of 100 are: \")\n",
    "printDivisors(100)"
   ]
  },
  {
   "attachments": {},
   "cell_type": "markdown",
   "metadata": {},
   "source": [
    "21. Python Program to Make a Simple Calculator"
   ]
  },
  {
   "cell_type": "code",
   "execution_count": 3,
   "metadata": {},
   "outputs": [],
   "source": [
    "# pip install tkinter\n",
    "import tkinter as tk\n",
    "import tkinter.messagebox\n",
    "from tkinter.constants import SUNKEN\n",
    "\n",
    "window = tk.Tk()\n",
    "window.title('Calculator-GeeksForGeeks')\n",
    "frame = tk.Frame(master=window, bg=\"skyblue\", padx=10)\n",
    "frame.pack()\n",
    "entry = tk.Entry(master=frame, relief=SUNKEN, borderwidth=3, width=30)\n",
    "entry.grid(row=0, column=0, columnspan=3, ipady=2, pady=2)\n",
    "\n",
    "\n",
    "def myclick(number):\n",
    "\tentry.insert(tk.END, number)\n",
    "\n",
    "\n",
    "def equal():\n",
    "\ttry:\n",
    "\t\ty = str(eval(entry.get()))\n",
    "\t\tentry.delete(0, tk.END)\n",
    "\t\tentry.insert(0, y)\n",
    "\texcept:\n",
    "\t\ttkinter.messagebox.showinfo(\"Error\", \"Syntax Error\")\n",
    "\n",
    "\n",
    "def clear():\n",
    "\tentry.delete(0, tk.END)\n",
    "\n",
    "\n",
    "button_1 = tk.Button(master=frame, text='1', padx=15,\n",
    "\t\t\t\t\tpady=5, width=3, command=lambda: myclick(1))\n",
    "button_1.grid(row=1, column=0, pady=2)\n",
    "button_2 = tk.Button(master=frame, text='2', padx=15,\n",
    "\t\t\t\t\tpady=5, width=3, command=lambda: myclick(2))\n",
    "button_2.grid(row=1, column=1, pady=2)\n",
    "button_3 = tk.Button(master=frame, text='3', padx=15,\n",
    "\t\t\t\t\tpady=5, width=3, command=lambda: myclick(3))\n",
    "button_3.grid(row=1, column=2, pady=2)\n",
    "button_4 = tk.Button(master=frame, text='4', padx=15,\n",
    "\t\t\t\t\tpady=5, width=3, command=lambda: myclick(4))\n",
    "button_4.grid(row=2, column=0, pady=2)\n",
    "button_5 = tk.Button(master=frame, text='5', padx=15,\n",
    "\t\t\t\t\tpady=5, width=3, command=lambda: myclick(5))\n",
    "button_5.grid(row=2, column=1, pady=2)\n",
    "button_6 = tk.Button(master=frame, text='6', padx=15,\n",
    "\t\t\t\t\tpady=5, width=3, command=lambda: myclick(6))\n",
    "button_6.grid(row=2, column=2, pady=2)\n",
    "button_7 = tk.Button(master=frame, text='7', padx=15,\n",
    "\t\t\t\t\tpady=5, width=3, command=lambda: myclick(7))\n",
    "button_7.grid(row=3, column=0, pady=2)\n",
    "button_8 = tk.Button(master=frame, text='8', padx=15,\n",
    "\t\t\t\t\tpady=5, width=3, command=lambda: myclick(8))\n",
    "button_8.grid(row=3, column=1, pady=2)\n",
    "button_9 = tk.Button(master=frame, text='9', padx=15,\n",
    "\t\t\t\t\tpady=5, width=3, command=lambda: myclick(9))\n",
    "button_9.grid(row=3, column=2, pady=2)\n",
    "button_0 = tk.Button(master=frame, text='0', padx=15,\n",
    "\t\t\t\t\tpady=5, width=3, command=lambda: myclick(0))\n",
    "button_0.grid(row=4, column=1, pady=2)\n",
    "\n",
    "button_add = tk.Button(master=frame, text=\"+\", padx=15,\n",
    "\t\t\t\t\tpady=5, width=3, command=lambda: myclick('+'))\n",
    "button_add.grid(row=5, column=0, pady=2)\n",
    "\n",
    "button_subtract = tk.Button(\n",
    "\tmaster=frame, text=\"-\", padx=15, pady=5, width=3, command=lambda: myclick('-'))\n",
    "button_subtract.grid(row=5, column=1, pady=2)\n",
    "\n",
    "button_multiply = tk.Button(\n",
    "\tmaster=frame, text=\"*\", padx=15, pady=5, width=3, command=lambda: myclick('*'))\n",
    "button_multiply.grid(row=5, column=2, pady=2)\n",
    "\n",
    "button_div = tk.Button(master=frame, text=\"/\", padx=15,\n",
    "\t\t\t\t\tpady=5, width=3, command=lambda: myclick('/'))\n",
    "button_div.grid(row=6, column=0, pady=2)\n",
    "\n",
    "button_clear = tk.Button(master=frame, text=\"clear\",\n",
    "\t\t\t\t\t\tpadx=15, pady=5, width=12, command=clear)\n",
    "button_clear.grid(row=6, column=1, columnspan=2, pady=2)\n",
    "\n",
    "button_equal = tk.Button(master=frame, text=\"=\", padx=15,\n",
    "\t\t\t\t\t\tpady=5, width=9, command=equal)\n",
    "button_equal.grid(row=7, column=0, columnspan=3, pady=2)\n",
    "\n",
    "window.mainloop()\n"
   ]
  },
  {
   "attachments": {},
   "cell_type": "markdown",
   "metadata": {},
   "source": [
    "22. Python Program to Add Two Matrices"
   ]
  },
  {
   "cell_type": "code",
   "execution_count": 1,
   "metadata": {},
   "outputs": [
    {
     "name": "stdout",
     "output_type": "stream",
     "text": [
      "[10, 10, 10]\n",
      "[10, 10, 10]\n",
      "[10, 10, 10]\n"
     ]
    }
   ],
   "source": [
    "\n",
    "# Program to add two matrices using nested loop\n",
    " \n",
    "X = [[1,2,3],\n",
    "    [4 ,5,6],\n",
    "    [7 ,8,9]]\n",
    " \n",
    "Y = [[9,8,7],\n",
    "    [6,5,4],\n",
    "    [3,2,1]]\n",
    " \n",
    " \n",
    "result = [[0,0,0],\n",
    "        [0,0,0],\n",
    "        [0,0,0]]\n",
    " \n",
    "# iterate through rows\n",
    "for i in range(len(X)):  \n",
    "# iterate through columns\n",
    "    for j in range(len(X[0])):\n",
    "        result[i][j] = X[i][j] + Y[i][j]\n",
    " \n",
    "for r in result:\n",
    "    print(r)"
   ]
  },
  {
   "attachments": {},
   "cell_type": "markdown",
   "metadata": {},
   "source": [
    "23. Python Program to Transpose a Matrix"
   ]
  },
  {
   "cell_type": "code",
   "execution_count": 6,
   "metadata": {},
   "outputs": [
    {
     "name": "stdout",
     "output_type": "stream",
     "text": [
      "Result matrix is\n",
      "1  2  3  4  2  2  3  4  3  3  3  4  4  4  4  4  \n"
     ]
    }
   ],
   "source": [
    "# Python3 Program to find\n",
    "# transpose of a matrix\n",
    "\n",
    "N = 4\n",
    "\n",
    "# This function stores\n",
    "# transpose of A[][] in B[][]\n",
    "\n",
    "def transpose(A,B):\n",
    "\n",
    "    for i in range(N):\n",
    "        for j in range(N):\n",
    "            B[i][j] = A[j][i]\n",
    "\n",
    "# driver code\n",
    "A = [ [1, 1, 1, 1],\n",
    "[2, 2, 2, 2],\n",
    "[3, 3, 3, 3],\n",
    "[4, 4, 4, 4]]\n",
    "\n",
    "\n",
    "B = A[:][:] # To store result\n",
    "\n",
    "transpose(A, B)\n",
    "\n",
    "print(\"Result matrix is\")\n",
    "for i in range(N):\n",
    "    for j in range(N):\n",
    "        print(B[i][j], \" \", end='')\n",
    "print()\n",
    "\n",
    "# This code is contributed by Anant Agarwal.\n"
   ]
  },
  {
   "attachments": {},
   "cell_type": "markdown",
   "metadata": {},
   "source": [
    "24. Python Program to Multiply Two Matrices\n"
   ]
  },
  {
   "cell_type": "code",
   "execution_count": 7,
   "metadata": {},
   "outputs": [
    {
     "name": "stdout",
     "output_type": "stream",
     "text": [
      "[114, 160, 60, 27]\n",
      "[74, 97, 73, 14]\n",
      "[119, 157, 112, 23]\n"
     ]
    }
   ],
   "source": [
    "# Program to multiply two matrices using nested loops\n",
    "\n",
    "# take a 3x3 matrix\n",
    "A = [[12, 7, 3],\n",
    "\t[4, 5, 6],\n",
    "\t[7, 8, 9]]\n",
    "\n",
    "# take a 3x4 matrix\n",
    "B = [[5, 8, 1, 2],\n",
    "\t[6, 7, 3, 0],\n",
    "\t[4, 5, 9, 1]]\n",
    "\t\n",
    "result = [[0, 0, 0, 0],\n",
    "\t\t[0, 0, 0, 0],\n",
    "\t\t[0, 0, 0, 0]]\n",
    "\n",
    "# iterating by row of A\n",
    "for i in range(len(A)):\n",
    "\n",
    "\t# iterating by column by B\n",
    "\tfor j in range(len(B[0])):\n",
    "\n",
    "\t\t# iterating by rows of B\n",
    "\t\tfor k in range(len(B)):\n",
    "\t\t\tresult[i][j] += A[i][k] * B[k][j]\n",
    "\n",
    "for r in result:\n",
    "\tprint(r)\n"
   ]
  },
  {
   "attachments": {},
   "cell_type": "markdown",
   "metadata": {},
   "source": [
    "25. Python Program to Check Whether a String is Palindrome or Not"
   ]
  },
  {
   "cell_type": "code",
   "execution_count": 8,
   "metadata": {},
   "outputs": [
    {
     "name": "stdout",
     "output_type": "stream",
     "text": [
      "Yes\n"
     ]
    }
   ],
   "source": [
    "# function which return reverse of a string\n",
    "\n",
    "def isPalindrome(s):\n",
    "\treturn s == s[::-1]\n",
    "\n",
    "\n",
    "# Driver code\n",
    "s = \"malayalam\"\n",
    "ans = isPalindrome(s)\n",
    "\n",
    "if ans:\n",
    "\tprint(\"Yes\")\n",
    "else:\n",
    "\tprint(\"No\")\n"
   ]
  },
  {
   "attachments": {},
   "cell_type": "markdown",
   "metadata": {},
   "source": [
    "26. Python Program to Create Pyramid Patterns of Numbers Till 10"
   ]
  },
  {
   "cell_type": "code",
   "execution_count": 9,
   "metadata": {},
   "outputs": [
    {
     "name": "stdout",
     "output_type": "stream",
     "text": [
      "* \n",
      "* * \n",
      "* * * \n",
      "* * * * \n",
      "* * * * * \n"
     ]
    }
   ],
   "source": [
    "# Python 3.x code to demonstrate star pattern\n",
    "\n",
    "# Function to demonstrate printing pattern\n",
    "def pypart(n):\n",
    "\t\n",
    "\t# outer loop to handle number of rows\n",
    "\t# n in this case\n",
    "\tfor i in range(0, n):\n",
    "\t\n",
    "\t\t# inner loop to handle number of columns\n",
    "\t\t# values changing acc. to outer loop\n",
    "\t\tfor j in range(0, i+1):\n",
    "\t\t\n",
    "\t\t\t# printing stars\n",
    "\t\t\tprint(\"* \",end=\"\")\n",
    "\t\n",
    "\t\t# ending line after each row\n",
    "\t\tprint(\"\\r\")\n",
    "\n",
    "# Driver Code\n",
    "n = 5\n",
    "pypart(n)\n"
   ]
  },
  {
   "attachments": {},
   "cell_type": "markdown",
   "metadata": {},
   "source": [
    "27. Python Program to Merge Two Dictionaries"
   ]
  },
  {
   "cell_type": "code",
   "execution_count": 10,
   "metadata": {},
   "outputs": [
    {
     "name": "stdout",
     "output_type": "stream",
     "text": [
      "None\n",
      "{'d': 6, 'c': 4, 'a': 10, 'b': 8}\n"
     ]
    }
   ],
   "source": [
    "# Python code to merge dict using update() method\n",
    "def Merge(dict1, dict2):\n",
    "\treturn(dict2.update(dict1))\n",
    "\n",
    "\n",
    "# Driver code\n",
    "dict1 = {'a': 10, 'b': 8}\n",
    "dict2 = {'d': 6, 'c': 4}\n",
    "\n",
    "# This returns None\n",
    "print(Merge(dict1, dict2))\n",
    "\n",
    "# changes made in dict2\n",
    "print(dict2)\n"
   ]
  },
  {
   "attachments": {},
   "cell_type": "markdown",
   "metadata": {},
   "source": [
    "28. Python Program to Access Index of a List Using for Loop"
   ]
  },
  {
   "cell_type": "code",
   "execution_count": 11,
   "metadata": {},
   "outputs": [
    {
     "name": "stdout",
     "output_type": "stream",
     "text": [
      "Indices and Index value in the list:\n",
      "0 G\n",
      "1 E\n",
      "2 E\n",
      "3 K\n",
      "4 F\n",
      "5 O\n",
      "6 R\n",
      "7 G\n",
      "8 E\n",
      "9 E\n",
      "10 K\n",
      "11 S\n"
     ]
    }
   ],
   "source": [
    "# create a list of subjects\n",
    "data = \"GEEKFORGEEKS\"\n",
    "\n",
    "print(\"Indices and Index value in the list:\")\n",
    "\n",
    "\n",
    "# display indices in the list\n",
    "for i in range(len(data)):\n",
    "\tprint(i, data[i])\n"
   ]
  },
  {
   "attachments": {},
   "cell_type": "markdown",
   "metadata": {},
   "source": [
    "29. Python Program to Concatenate Two Lists"
   ]
  },
  {
   "cell_type": "code",
   "execution_count": 12,
   "metadata": {},
   "outputs": [
    {
     "name": "stdout",
     "output_type": "stream",
     "text": [
      "Concatenated list using naive method : [1, 4, 5, 6, 5, 3, 5, 7, 2, 5]\n"
     ]
    }
   ],
   "source": [
    "# Python3 code to demonstrate list\n",
    "# concatenation using naive method\n",
    "\n",
    "# Initializing lists\n",
    "test_list1 = [1, 4, 5, 6, 5]\n",
    "test_list2 = [3, 5, 7, 2, 5]\n",
    "\n",
    "# using naive method to concat\n",
    "for i in test_list2 :\n",
    "\ttest_list1.append(i)\n",
    "\n",
    "# Printing concatenated list\n",
    "print (\"Concatenated list using naive method : \"\n",
    "\t\t\t\t\t\t\t+ str(test_list1))\n"
   ]
  },
  {
   "attachments": {},
   "cell_type": "markdown",
   "metadata": {},
   "source": [
    "30. Python Program to Get the Last Element of the List"
   ]
  },
  {
   "cell_type": "code",
   "execution_count": 13,
   "metadata": {},
   "outputs": [
    {
     "name": "stdout",
     "output_type": "stream",
     "text": [
      "The original list is : [1, 4, 5, 6, 3, 5]\n",
      "The last element of list using loop : 5\n",
      "The last element of list using reverse : 5\n"
     ]
    }
   ],
   "source": [
    "# initializing list\n",
    "test_list = [1, 4, 5, 6, 3, 5]\n",
    "\n",
    "# printing original list\n",
    "print(\"The original list is : \" + str(test_list))\n",
    "\n",
    "# First naive method\n",
    "# using loop method to print last element\n",
    "for i in range(0, len(test_list)):\n",
    "\n",
    "\tif i == (len(test_list)-1):\n",
    "\t\tprint(\"The last element of list using loop : \"\n",
    "\t\t\t+ str(test_list[i]))\n",
    "\n",
    "# Second naive method\n",
    "# using reverse method to print last element\n",
    "test_list.reverse()\n",
    "print(\"The last element of list using reverse : \"\n",
    "\t+ str(test_list[0]))\n"
   ]
  },
  {
   "attachments": {},
   "cell_type": "markdown",
   "metadata": {},
   "source": [
    "31. Python Program to Randomly Select an Element From the List\n"
   ]
  },
  {
   "cell_type": "code",
   "execution_count": 5,
   "metadata": {},
   "outputs": [
    {
     "name": "stdout",
     "output_type": "stream",
     "text": [
      "[6, 2, 8, 6]\n"
     ]
    }
   ],
   "source": [
    "\n",
    "# importing random module\n",
    "import random\n",
    " \n",
    "# declaring list\n",
    "list = [2, 2, 4, 6, 6, 8]\n",
    " \n",
    "# initializing the value of n\n",
    "n = 4\n",
    " \n",
    "# printing n elements from list\n",
    "print(random.sample(list, n))"
   ]
  },
  {
   "attachments": {},
   "cell_type": "markdown",
   "metadata": {},
   "source": [
    "32. Python program to print odd numbers in a List\n"
   ]
  },
  {
   "cell_type": "code",
   "execution_count": 7,
   "metadata": {},
   "outputs": [
    {
     "name": "stdout",
     "output_type": "stream",
     "text": [
      "21 45 93 "
     ]
    }
   ],
   "source": [
    "# Python program to print odd Numbers in a List\n",
    "\n",
    "# list of numbers\n",
    "list1 = [10, 21, 4, 45, 66, 93]\n",
    "\n",
    "# iterating each number in list\n",
    "for num in list1:\n",
    "\n",
    "# checking condition\n",
    "    if num % 2 != 0:\n",
    "\t    print(num, end=\" \")\n"
   ]
  },
  {
   "attachments": {},
   "cell_type": "markdown",
   "metadata": {},
   "source": [
    "33. Python program to print all even numbers in a range\n"
   ]
  },
  {
   "cell_type": "code",
   "execution_count": 8,
   "metadata": {},
   "outputs": [
    {
     "name": "stdout",
     "output_type": "stream",
     "text": [
      "4 6 8 10 12 14 "
     ]
    }
   ],
   "source": [
    "# Python program to print all even numbers in range\n",
    "for even_numbers in range(4,15,2):\n",
    "#here inside range function first no denotes starting,\n",
    "#second denotes end and\n",
    "#third denotes the interval\n",
    "\tprint(even_numbers,end=' ')\n"
   ]
  },
  {
   "attachments": {},
   "cell_type": "markdown",
   "metadata": {},
   "source": [
    "34. Python Program to find sum of array\n"
   ]
  },
  {
   "cell_type": "code",
   "execution_count": 9,
   "metadata": {},
   "outputs": [
    {
     "name": "stdout",
     "output_type": "stream",
     "text": [
      "Sum of the array is  34\n"
     ]
    }
   ],
   "source": [
    "# Python 3 code to find sum\n",
    "# of elements in given array\n",
    "\n",
    "\n",
    "def _sum(arr):\n",
    "\n",
    "\t# initialize a variable\n",
    "\t# to store the sum\n",
    "\t# while iterating through\n",
    "\t# the array later\n",
    "\tsum = 0\n",
    "\n",
    "\t# iterate through the array\n",
    "\t# and add each element to the sum variable\n",
    "\t# one at a time\n",
    "\tfor i in arr:\n",
    "\t\tsum = sum + i\n",
    "\n",
    "\treturn(sum)\n",
    "\n",
    "\n",
    "# main function\n",
    "if __name__ == \"__main__\":\n",
    "\t# input values to list\n",
    "\tarr = [12, 3, 4, 15]\n",
    "\n",
    "\t# calculating length of array\n",
    "\tn = len(arr)\n",
    "\t# calling function ans store the sum in ans\n",
    "\tans = _sum(arr)\n",
    "\t# display sum\n",
    "\tprint('Sum of the array is ', ans)\n"
   ]
  },
  {
   "attachments": {},
   "cell_type": "markdown",
   "metadata": {},
   "source": [
    "35. Python Program to Check If a String Is a Number (Float)"
   ]
  },
  {
   "cell_type": "code",
   "execution_count": 10,
   "metadata": {},
   "outputs": [
    {
     "name": "stdout",
     "output_type": "stream",
     "text": [
      "The original string : 45.657\n",
      "Is string a possible float number ? : True\n"
     ]
    }
   ],
   "source": [
    "# Python3 code to demonstrate\n",
    "# Check for float string\n",
    "# using isdigit() + replace()\n",
    "\n",
    "# initializing string\n",
    "test_string = \"45.657\"\n",
    "\n",
    "# printing original string\n",
    "print(\"The original string : \" + str(test_string))\n",
    "\n",
    "# using isdigit() + replace()\n",
    "# Check for float string\n",
    "res = test_string.replace('.', '', 1).isdigit()\n",
    "\n",
    "# print result\n",
    "print(\"Is string a possible float number ? : \" + str(res))\n"
   ]
  },
  {
   "attachments": {},
   "cell_type": "markdown",
   "metadata": {},
   "source": [
    "36. Python Program to Convert Two Lists Into a Dictionary\n"
   ]
  },
  {
   "cell_type": "code",
   "execution_count": 11,
   "metadata": {},
   "outputs": [
    {
     "name": "stdout",
     "output_type": "stream",
     "text": [
      "Original key list is : ['Rash', 'Kil', 'Varsha']\n",
      "Original value list is : [1, 4, 5]\n",
      "Resultant dictionary is : {'Rash': 1, 'Kil': 4, 'Varsha': 5}\n"
     ]
    }
   ],
   "source": [
    "# Python3 code to demonstrate\n",
    "# conversion of lists to dictionary\n",
    "# using naive method\n",
    "\n",
    "# initializing lists\n",
    "test_keys = [\"Rash\", \"Kil\", \"Varsha\"]\n",
    "test_values = [1, 4, 5]\n",
    "\n",
    "# Printing original keys-value lists\n",
    "print(\"Original key list is : \" + str(test_keys))\n",
    "print(\"Original value list is : \" + str(test_values))\n",
    "\n",
    "# using naive method\n",
    "# to convert lists to dictionary\n",
    "res = {}\n",
    "for key in test_keys:\n",
    "\tfor value in test_values:\n",
    "\t\tres[key] = value\n",
    "\t\ttest_values.remove(value)\n",
    "\t\tbreak\n",
    "\n",
    "# Printing resultant dictionary\n",
    "print(\"Resultant dictionary is : \" + str(res))\n"
   ]
  },
  {
   "attachments": {},
   "cell_type": "markdown",
   "metadata": {},
   "source": [
    "37. Python Program to Reverse a Number"
   ]
  },
  {
   "cell_type": "code",
   "execution_count": 12,
   "metadata": {},
   "outputs": [
    {
     "name": "stdout",
     "output_type": "stream",
     "text": [
      "2654\n"
     ]
    }
   ],
   "source": [
    "# Python program to reverse a number\n",
    "\n",
    "n = 4562\n",
    "rev = 0\n",
    "\n",
    "while(n > 0):\n",
    "\ta = n % 10\n",
    "\trev = rev * 10 + a\n",
    "\tn = n // 10\n",
    "\n",
    "print(rev)\n",
    "\n",
    "# This code is contributed by Shariq Raza\n"
   ]
  },
  {
   "attachments": {},
   "cell_type": "markdown",
   "metadata": {},
   "source": [
    "38. Python Program to Compute the Power of a Number"
   ]
  },
  {
   "cell_type": "code",
   "execution_count": 16,
   "metadata": {},
   "outputs": [
    {
     "name": "stdout",
     "output_type": "stream",
     "text": [
      "16\n"
     ]
    }
   ],
   "source": [
    "def calc_power(N, p):\n",
    "\tif p == 0:\n",
    "\t\treturn 1\n",
    "\treturn N * calc_power(N, p-1)\n",
    "\n",
    "print(calc_power(4, 2))\n"
   ]
  },
  {
   "attachments": {},
   "cell_type": "markdown",
   "metadata": {},
   "source": [
    "39. Python Program to Count the Number of Digits Present In a Number"
   ]
  },
  {
   "cell_type": "code",
   "execution_count": 17,
   "metadata": {},
   "outputs": [
    {
     "name": "stdout",
     "output_type": "stream",
     "text": [
      "Number of digits :  9\n"
     ]
    }
   ],
   "source": [
    "# Iterative Python program to count\n",
    "# number of digits in a number\n",
    "\n",
    "\n",
    "def countDigit(n):\n",
    "\tcount = 0\n",
    "\twhile n != 0:\n",
    "\t\tn //= 10\n",
    "\t\tcount += 1\n",
    "\treturn count\n",
    "\n",
    "\n",
    "# Driver Code\n",
    "n = 345289467\n",
    "print(\"Number of digits : % d\" % (countDigit(n)))\n",
    "\n",
    "# This code is contributed by Shreyanshi Arun\n"
   ]
  },
  {
   "attachments": {},
   "cell_type": "markdown",
   "metadata": {},
   "source": [
    "40. Python Program to Remove Duplicate Element From a List\n"
   ]
  },
  {
   "cell_type": "code",
   "execution_count": 18,
   "metadata": {},
   "outputs": [
    {
     "name": "stdout",
     "output_type": "stream",
     "text": [
      "[2, 4, 10, 20, 5]\n"
     ]
    }
   ],
   "source": [
    "# Python code to remove duplicate elements\n",
    "def Remove(duplicate):\n",
    "\tfinal_list = []\n",
    "\tfor num in duplicate:\n",
    "\t\tif num not in final_list:\n",
    "\t\t\tfinal_list.append(num)\n",
    "\treturn final_list\n",
    "\t\n",
    "# Driver Code\n",
    "duplicate = [2, 4, 10, 20, 5, 2, 20, 4]\n",
    "print(Remove(duplicate))\n"
   ]
  },
  {
   "attachments": {},
   "cell_type": "markdown",
   "metadata": {},
   "source": [
    "41. Python Program to Display Calendar"
   ]
  },
  {
   "cell_type": "code",
   "execution_count": 1,
   "metadata": {},
   "outputs": [
    {
     "name": "stdout",
     "output_type": "stream",
     "text": [
      "     April 2023\n",
      "Mo Tu We Th Fr Sa Su\n",
      "                1  2\n",
      " 3  4  5  6  7  8  9\n",
      "10 11 12 13 14 15 16\n",
      "17 18 19 20 21 22 23\n",
      "24 25 26 27 28 29 30\n",
      "\n"
     ]
    }
   ],
   "source": [
    "# import module\n",
    "import calendar\n",
    "\n",
    "yy = 2023\n",
    "mm = 4\n",
    "\n",
    "# display the calendar\n",
    "print(calendar.month(yy, mm))\n"
   ]
  },
  {
   "attachments": {},
   "cell_type": "markdown",
   "metadata": {},
   "source": [
    "42. Python Program to find sum of array"
   ]
  },
  {
   "cell_type": "code",
   "execution_count": 2,
   "metadata": {},
   "outputs": [
    {
     "name": "stdout",
     "output_type": "stream",
     "text": [
      "Sum of the array is  34\n"
     ]
    }
   ],
   "source": [
    "# Python 3 code to find sum\n",
    "# of elements in given array\n",
    "\n",
    "\n",
    "def _sum(arr):\n",
    "\n",
    "\t# initialize a variable\n",
    "\t# to store the sum\n",
    "\t# while iterating through\n",
    "\t# the array later\n",
    "\tsum = 0\n",
    "\n",
    "\t# iterate through the array\n",
    "\t# and add each element to the sum variable\n",
    "\t# one at a time\n",
    "\tfor i in arr:\n",
    "\t\tsum = sum + i\n",
    "\n",
    "\treturn(sum)\n",
    "\n",
    "\n",
    "# main function\n",
    "if __name__ == \"__main__\":\n",
    "\t# input values to list\n",
    "\tarr = [12, 3, 4, 15]\n",
    "\n",
    "\t# calculating length of array\n",
    "\tn = len(arr)\n",
    "\t# calling function ans store the sum in ans\n",
    "\tans = _sum(arr)\n",
    "\t# display sum\n",
    "\tprint('Sum of the array is ', ans)\n"
   ]
  },
  {
   "attachments": {},
   "cell_type": "markdown",
   "metadata": {},
   "source": [
    "43. Python | Check for URL in a String"
   ]
  },
  {
   "cell_type": "code",
   "execution_count": 3,
   "metadata": {},
   "outputs": [
    {
     "name": "stdout",
     "output_type": "stream",
     "text": [
      "Urls:  ['https://auth.geeksforgeeks.org/user/Chinmoy%20Lenka/articles', 'https://www.geeksforgeeks.org/']\n"
     ]
    }
   ],
   "source": [
    "# Python code to find the URL from an input string\n",
    "# Using the regular expression\n",
    "import re\n",
    "\n",
    "\n",
    "def Find(string):\n",
    "\n",
    "\t# findall() has been used\n",
    "\t# with valid conditions for urls in string\n",
    "\tregex = r\"(?i)\\b((?:https?://|www\\d{0,3}[.]|[a-z0-9.\\-]+[.][a-z]{2,4}/)(?:[^\\s()<>]+|\\(([^\\s()<>]+|(\\([^\\s()<>]+\\)))*\\))+(?:\\(([^\\s()<>]+|(\\([^\\s()<>]+\\)))*\\)|[^\\s`!()\\[\\]{};:'\\\".,<>?«»“”‘’]))\"\n",
    "\turl = re.findall(regex, string)\n",
    "\treturn [x[0] for x in url]\n",
    "\n",
    "\n",
    "# Driver Code\n",
    "string = 'My Profile: https://auth.geeksforgeeks.org/user/Chinmoy%20Lenka/articles in the portal of https://www.geeksforgeeks.org/'\n",
    "print(\"Urls: \", Find(string))\n"
   ]
  },
  {
   "attachments": {},
   "cell_type": "markdown",
   "metadata": {},
   "source": [
    "44. Python – Sort Dictionary key and values List"
   ]
  },
  {
   "cell_type": "code",
   "execution_count": null,
   "metadata": {},
   "outputs": [],
   "source": [
    "# Python3 code to demonstrate working of\n",
    "# Sort Dictionary key and values List\n",
    "# Using loop + dictionary comprehension\n",
    "\n",
    "# initializing dictionary\n",
    "test_dict = {'gfg': [7, 6, 3],\n",
    "\t\t\t'is': [2, 10, 3],\n",
    "\t\t\t'best': [19, 4]}\n",
    "\n",
    "# printing original dictionary\n",
    "print(\"The original dictionary is : \" + str(test_dict))\n",
    "\n",
    "# Sort Dictionary key and values List\n",
    "# Using loop + dictionary comprehension\n",
    "res = dict()\n",
    "for key in sorted(test_dict):\n",
    "\tres[key] = sorted(test_dict[key])\n",
    "\n",
    "# printing result\n",
    "print(\"The sorted dictionary : \" + str(res))\n"
   ]
  },
  {
   "attachments": {},
   "cell_type": "markdown",
   "metadata": {},
   "source": [
    "45. Python program to Find the size of a Tuple"
   ]
  },
  {
   "cell_type": "code",
   "execution_count": 4,
   "metadata": {},
   "outputs": [
    {
     "name": "stdout",
     "output_type": "stream",
     "text": [
      "Size of Tuple1: 88bytes\n",
      "Size of Tuple2: 88bytes\n",
      "Size of Tuple3: 72bytes\n"
     ]
    }
   ],
   "source": [
    "import sys\n",
    "\n",
    "# sample Tuples\n",
    "Tuple1 = (\"A\", 1, \"B\", 2, \"C\", 3)\n",
    "Tuple2 = (\"Geek1\", \"Raju\", \"Geek2\", \"Nikhil\", \"Geek3\", \"Deepanshu\")\n",
    "Tuple3 = ((1, \"Lion\"), ( 2, \"Tiger\"), (3, \"Fox\"), (4, \"Wolf\"))\n",
    "\n",
    "# print the sizes of sample Tuples\n",
    "print(\"Size of Tuple1: \" + str(sys.getsizeof(Tuple1)) + \"bytes\")\n",
    "print(\"Size of Tuple2: \" + str(sys.getsizeof(Tuple2)) + \"bytes\")\n",
    "print(\"Size of Tuple3: \" + str(sys.getsizeof(Tuple3)) + \"bytes\")\n"
   ]
  },
  {
   "attachments": {},
   "cell_type": "markdown",
   "metadata": {},
   "source": [
    "46. Create a list of tuples from given list having number and its cube in each tuple"
   ]
  },
  {
   "cell_type": "code",
   "execution_count": 5,
   "metadata": {},
   "outputs": [
    {
     "name": "stdout",
     "output_type": "stream",
     "text": [
      "[(1, 1), (2, 8), (5, 125), (6, 216)]\n"
     ]
    }
   ],
   "source": [
    "# Python program to create a list of tuples\n",
    "# from given list having number and\n",
    "# its cube in each tuple\n",
    "\n",
    "# creating a list\n",
    "list1 = [1, 2, 5, 6]\n",
    "\n",
    "# using list comprehension to iterate each\n",
    "# values in list and create a tuple as specified\n",
    "res = [(val, pow(val, 3)) for val in list1]\n",
    "\n",
    "# print the result\n",
    "print(res)\n"
   ]
  },
  {
   "attachments": {},
   "cell_type": "markdown",
   "metadata": {},
   "source": [
    "47. Python – Extract digits from Tuple list"
   ]
  },
  {
   "cell_type": "code",
   "execution_count": 6,
   "metadata": {},
   "outputs": [
    {
     "name": "stdout",
     "output_type": "stream",
     "text": [
      "The original list is : [(15, 3), (3, 9), (1, 10), (99, 2)]\n",
      "The extracted digits : {'2', '1', '3', '5', '9', '0'}\n"
     ]
    }
   ],
   "source": [
    "# Python3 code to demonstrate working of\n",
    "# Extract digits from Tuple list\n",
    "# Using map() + chain.from_iterable() + set() + loop\n",
    "from itertools import chain\n",
    "\n",
    "# initializing list\n",
    "test_list = [(15, 3), (3, 9), (1, 10), (99, 2)]\n",
    "\n",
    "# printing original list\n",
    "print(\"The original list is : \" + str(test_list))\n",
    "\n",
    "# Extract digits from Tuple list\n",
    "# Using map() + chain.from_iterable() + set() + loop\n",
    "temp = map(lambda ele: str(ele), chain.from_iterable(test_list))\n",
    "res = set()\n",
    "for sub in temp:\n",
    "\tfor ele in sub:\n",
    "\t\tres.add(ele)\n",
    "\n",
    "# printing result\n",
    "print(\"The extracted digits : \" + str(res))\n"
   ]
  },
  {
   "attachments": {},
   "cell_type": "markdown",
   "metadata": {},
   "source": [
    "48. Python program to Delete all Elements in List"
   ]
  },
  {
   "cell_type": "code",
   "execution_count": 7,
   "metadata": {},
   "outputs": [
    {
     "name": "stdout",
     "output_type": "stream",
     "text": [
      "GEEK before clear: [6, 0, 4, 1]\n",
      "GEEK after clear: []\n"
     ]
    }
   ],
   "source": [
    "# Python program to clear a list\n",
    "# using clear() method\n",
    "\n",
    "# Creating list\n",
    "GEEK = [6, 0, 4, 1]\n",
    "print('GEEK before clear:', GEEK)\n",
    "\n",
    "# Clearing list\n",
    "GEEK.clear()\n",
    "print('GEEK after clear:', GEEK)\n"
   ]
  },
  {
   "attachments": {},
   "cell_type": "markdown",
   "metadata": {},
   "source": [
    "49. Python Program to Enter Basic Salary and Calculate Gross Salary of an \n",
    "Employee"
   ]
  },
  {
   "cell_type": "code",
   "execution_count": 1,
   "metadata": {},
   "outputs": [
    {
     "name": "stdout",
     "output_type": "stream",
     "text": [
      "17600\n"
     ]
    }
   ],
   "source": [
    "# Python3 program to implement\n",
    "# the above approach\n",
    "\n",
    "# Function to calculate the\n",
    "# salary of the person\n",
    "def computeSalary( basic, grade):\n",
    "\t\n",
    "\thra = 0.2 * basic\n",
    "\tda = 0.5 * basic\n",
    "\tpf = 0.11 * basic\n",
    "\t\n",
    "\t# Condition to compute the\n",
    "\t# allowance for the person\n",
    "\tif grade == 'A':\n",
    "\t\tallowance = 1700.0\n",
    "\telif grade == 'B':\n",
    "\t\tallowance = 1500.0\n",
    "\telse:\n",
    "\t\tallowance = 1300.0;\n",
    "\t\n",
    "\tgross = round(basic + hra + da +\n",
    "\t\t\t\t\tallowance - pf)\n",
    "\t\t\t\t\t\n",
    "\treturn gross\n",
    "\n",
    "# Driver code\n",
    "if __name__ == '__main__':\n",
    "\t\n",
    "\tbasic = 10000\n",
    "\tgrade = 'A'\n",
    "\t\n",
    "\t# Function call\n",
    "\tprint(computeSalary(basic, grade));\n"
   ]
  },
  {
   "attachments": {},
   "cell_type": "markdown",
   "metadata": {},
   "source": [
    "50. Python Program to Calculate the Average of Numbers in a Given List"
   ]
  },
  {
   "cell_type": "code",
   "execution_count": 2,
   "metadata": {},
   "outputs": [
    {
     "name": "stdout",
     "output_type": "stream",
     "text": [
      "Average of the list = 35.75\n"
     ]
    }
   ],
   "source": [
    "# Python program to get average of a list\n",
    "def Average(lst):\n",
    "\treturn sum(lst) / len(lst)\n",
    "\n",
    "# Driver Code\n",
    "lst = [15, 9, 55, 41, 35, 20, 62, 49]\n",
    "average = Average(lst)\n",
    "\n",
    "# Printing average of the list\n",
    "print(\"Average of the list =\", round(average, 2))\n"
   ]
  }
 ],
 "metadata": {
  "kernelspec": {
   "display_name": "Python 3",
   "language": "python",
   "name": "python3"
  },
  "language_info": {
   "codemirror_mode": {
    "name": "ipython",
    "version": 3
   },
   "file_extension": ".py",
   "mimetype": "text/x-python",
   "name": "python",
   "nbconvert_exporter": "python",
   "pygments_lexer": "ipython3",
   "version": "3.11.2"
  },
  "orig_nbformat": 4
 },
 "nbformat": 4,
 "nbformat_minor": 2
}
