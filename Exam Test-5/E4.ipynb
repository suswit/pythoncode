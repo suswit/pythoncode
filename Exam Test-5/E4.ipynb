{
 "cells": [
  {
   "cell_type": "markdown",
   "metadata": {},
   "source": [
    "6. You have a dataset of objects labeled with their colors: \"red,\" \"blue,\" or \"green.\" Build a decision tree classifier to predict the color of a new object based on its size and shape. Use the following training data:\n",
    "Size | Shape | Color\n",
    "-----------------------\n",
    "Small | Round | Red\n",
    "Large | Square | Blue\n",
    "Small | Round | Green"
   ]
  },
  {
   "cell_type": "code",
   "execution_count": 22,
   "metadata": {},
   "outputs": [
    {
     "name": "stdout",
     "output_type": "stream",
     "text": [
      "Predicted color: ['Green']\n"
     ]
    }
   ],
   "source": [
    "from sklearn.tree import DecisionTreeClassifier\n",
    "import pandas as pd\n",
    "\n",
    "# Training data\n",
    "data = {\n",
    "    'Size': ['Small', 'Large', 'Small'],\n",
    "    'Shape': ['Round', 'Square', 'Round'],\n",
    "    'Color': ['Red', 'Blue', 'Green']\n",
    "}\n",
    "\n",
    "df = pd.DataFrame(data)\n",
    "\n",
    "# Convert categorical features to numerical\n",
    "df['Size'] = df['Size'].astype('category').cat.codes\n",
    "df['Shape'] = df['Shape'].astype('category').cat.codes\n",
    "\n",
    "X = df[['Size', 'Shape']]\n",
    "y = df['Color']\n",
    "\n",
    "# Decision Tree classification\n",
    "dt_classifier = DecisionTreeClassifier()\n",
    "dt_classifier.fit(X, y)\n",
    "\n",
    "# Prediction\n",
    "new_data = pd.DataFrame({'Size': [1], 'Shape': [0]})\n",
    "prediction = dt_classifier.predict(new_data)\n",
    "\n",
    "print(\"Predicted color:\", prediction)"
   ]
  },
  {
   "cell_type": "markdown",
   "metadata": {},
   "source": [
    "1. Write a program and demonstrate BMI class prediction by using K-NN with parameters height & weight by taking classes as underweight, normal."
   ]
  },
  {
   "cell_type": "code",
   "execution_count": 32,
   "metadata": {},
   "outputs": [
    {
     "name": "stdout",
     "output_type": "stream",
     "text": [
      "Accuracy: 1.00\n",
      "Predicted BMI class for the new sample: normal\n"
     ]
    }
   ],
   "source": [
    "import numpy as np\n",
    "from sklearn.model_selection import train_test_split\n",
    "from sklearn.preprocessing import StandardScaler\n",
    "from sklearn.neighbors import KNeighborsClassifier\n",
    "from sklearn.metrics import accuracy_score\n",
    "\n",
    "# Sample data: height in meters and weight in kilograms\n",
    "data = np.array([\n",
    "    [1.65, 55, \"underweight\"],\n",
    "    [1.70, 65, \"normal\"],\n",
    "    [1.55, 45, \"underweight\"],\n",
    "    [1.80, 70, \"normal\"],\n",
    "    [1.75, 60, \"normal\"],\n",
    "    [1.60, 50, \"underweight\"],\n",
    "    [1.85, 75, \"normal\"],\n",
    "    [1.90, 80, \"normal\"],\n",
    "    [1.70, 70, \"normal\"],\n",
    "    [1.58, 48, \"underweight\"]\n",
    "])\n",
    "\n",
    "# Splitting data into features (X) and labels (y)\n",
    "X = data[:, :-1].astype(float)\n",
    "y = data[:, -1]\n",
    "\n",
    "# Splitting data into training and testing sets\n",
    "X_train, X_test, y_train, y_test = train_test_split(X, y, test_size=0.2, random_state=42)\n",
    "\n",
    "# Standardize the features\n",
    "scaler = StandardScaler()\n",
    "X_train = scaler.fit_transform(X_train)\n",
    "X_test = scaler.transform(X_test)\n",
    "\n",
    "# Initialize the K-NN classifier\n",
    "k = 3  # Number of neighbors\n",
    "knn_classifier = KNeighborsClassifier(n_neighbors=k)\n",
    "\n",
    "# Train the classifier\n",
    "knn_classifier.fit(X_train, y_train)\n",
    "\n",
    "# Make predictions on the test set\n",
    "y_pred = knn_classifier.predict(X_test)\n",
    "\n",
    "# Calculate accuracy\n",
    "accuracy = accuracy_score(y_test, y_pred)\n",
    "print(f\"Accuracy: {accuracy:.2f}\")\n",
    "\n",
    "# Predict BMI class for a new sample\n",
    "new_sample = np.array([[1.72, 68]])  # New height and weight values\n",
    "new_sample = scaler.transform(new_sample)\n",
    "predicted_class = knn_classifier.predict(new_sample)\n",
    "print(f\"Predicted BMI class for the new sample: {predicted_class[0]}\")\n"
   ]
  }
 ],
 "metadata": {
  "kernelspec": {
   "display_name": "base",
   "language": "python",
   "name": "python3"
  },
  "language_info": {
   "codemirror_mode": {
    "name": "ipython",
    "version": 3
   },
   "file_extension": ".py",
   "mimetype": "text/x-python",
   "name": "python",
   "nbconvert_exporter": "python",
   "pygments_lexer": "ipython3",
   "version": "3.10.9"
  },
  "orig_nbformat": 4
 },
 "nbformat": 4,
 "nbformat_minor": 2
}
