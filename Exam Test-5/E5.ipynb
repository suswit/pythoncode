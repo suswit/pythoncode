{
 "cells": [
  {
   "cell_type": "code",
   "execution_count": 6,
   "metadata": {},
   "outputs": [
    {
     "name": "stdout",
     "output_type": "stream",
     "text": [
      "Epoch 1/5\n",
      "938/938 [==============================] - 30s 29ms/step - loss: 0.1718 - accuracy: 0.9510\n",
      "Epoch 2/5\n",
      "938/938 [==============================] - 27s 29ms/step - loss: 0.0569 - accuracy: 0.9831\n",
      "Epoch 3/5\n",
      "938/938 [==============================] - 26s 27ms/step - loss: 0.0375 - accuracy: 0.9883\n",
      "Epoch 4/5\n",
      "938/938 [==============================] - 26s 28ms/step - loss: 0.0260 - accuracy: 0.9916\n",
      "Epoch 5/5\n",
      "938/938 [==============================] - 27s 28ms/step - loss: 0.0182 - accuracy: 0.9943\n",
      "313/313 [==============================] - 2s 5ms/step\n",
      "Accuracy: 98.54%\n",
      "Confusion Matrix:\n",
      "[[ 974    0    1    0    0    1    2    1    0    1]\n",
      " [   0 1132    2    0    0    0    1    0    0    0]\n",
      " [   2    2 1014    0    3    0    0    4    6    1]\n",
      " [   0    0    4  993    0    7    0    3    2    1]\n",
      " [   0    0    0    0  975    0    1    0    1    5]\n",
      " [   2    0    1    7    0  873    7    0    1    1]\n",
      " [   8    2    1    0    7    1  939    0    0    0]\n",
      " [   0    2    6    1    0    0    0 1018    0    1]\n",
      " [   7    0    2    1    1    0    0    2  955    6]\n",
      " [   1    2    0    2   10    1    0    9    3  981]]\n"
     ]
    }
   ],
   "source": [
    "import numpy as np\n",
    "import tensorflow as tf\n",
    "from sklearn.metrics import accuracy_score, confusion_matrix\n",
    "from tensorflow.keras.models import Sequential\n",
    "from tensorflow.keras.layers import Conv2D, MaxPooling2D, Flatten, Dense\n",
    "from tensorflow.keras.datasets import mnist\n",
    "\n",
    "# Load a dataset (e.g., MNIST)\n",
    "(X_train, y_train), (X_test, y_test) = mnist.load_data()\n",
    "\n",
    "# Normalize and preprocess the data\n",
    "X_train = X_train / 255.0\n",
    "X_test = X_test / 255.0\n",
    "\n",
    "# Build a simple CNN model\n",
    "model = Sequential([\n",
    "    Conv2D(32, (3, 3), activation='relu', input_shape=(28, 28, 1)),\n",
    "    MaxPooling2D((2, 2)),\n",
    "    Flatten(),\n",
    "    Dense(128, activation='relu'),\n",
    "    Dense(10, activation='softmax')\n",
    "])\n",
    "\n",
    "# Compile the model\n",
    "model.compile(optimizer='adam', loss='sparse_categorical_crossentropy', metrics=['accuracy'])\n",
    "\n",
    "# Train the model\n",
    "model.fit(X_train, y_train, epochs=5, batch_size=64)\n",
    "\n",
    "# Evaluate the model\n",
    "y_pred = model.predict(X_test)\n",
    "y_pred_classes = np.argmax(y_pred, axis=1)\n",
    "accuracy = accuracy_score(y_test, y_pred_classes)\n",
    "confusion = confusion_matrix(y_test, y_pred_classes)\n",
    "print(f\"Accuracy: {accuracy * 100:.2f}%\")\n",
    "print(\"Confusion Matrix:\")\n",
    "print(confusion)\n"
   ]
  }
 ],
 "metadata": {
  "kernelspec": {
   "display_name": "base",
   "language": "python",
   "name": "python3"
  },
  "language_info": {
   "codemirror_mode": {
    "name": "ipython",
    "version": 3
   },
   "file_extension": ".py",
   "mimetype": "text/x-python",
   "name": "python",
   "nbconvert_exporter": "python",
   "pygments_lexer": "ipython3",
   "version": "3.10.9"
  },
  "orig_nbformat": 4
 },
 "nbformat": 4,
 "nbformat_minor": 2
}
