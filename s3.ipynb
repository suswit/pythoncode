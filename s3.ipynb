{
 "cells": [
  {
   "cell_type": "code",
   "execution_count": 10,
   "metadata": {},
   "outputs": [
    {
     "name": "stdout",
     "output_type": "stream",
     "text": [
      "P\n",
      "y\n",
      "t\n",
      "h\n",
      "o\n",
      "n\n"
     ]
    }
   ],
   "source": [
    "mytuple = (\"Python\")\n",
    "myit = iter(mytuple)\n",
    "\n",
    "print(next(myit))\n",
    "print(next(myit))\n",
    "print(next(myit))\n",
    "print(next(myit))\n",
    "print(next(myit))\n",
    "print(next(myit))\n"
   ]
  },
  {
   "cell_type": "code",
   "execution_count": 14,
   "metadata": {},
   "outputs": [
    {
     "data": {
      "text/plain": [
       "'P'"
      ]
     },
     "execution_count": 14,
     "metadata": {},
     "output_type": "execute_result"
    }
   ],
   "source": [
    "string1=\"Python\"\n",
    "Iter1=iter(string1)\n",
    "next(Iter1)"
   ]
  },
  {
   "cell_type": "code",
   "execution_count": null,
   "metadata": {},
   "outputs": [
    {
     "ename": "TypeError",
     "evalue": "'str' object cannot be interpreted as an integer",
     "output_type": "error",
     "traceback": [
      "\u001b[1;31m---------------------------------------------------------------------------\u001b[0m",
      "\u001b[1;31mTypeError\u001b[0m                                 Traceback (most recent call last)",
      "Cell \u001b[1;32mIn[13], line 4\u001b[0m\n\u001b[0;32m      1\u001b[0m string \u001b[39m=\u001b[39m \u001b[39m\"\u001b[39m\u001b[39mPython\u001b[39m\u001b[39m\"\u001b[39m\n\u001b[0;32m      2\u001b[0m Iter \u001b[39m=\u001b[39m \u001b[39miter\u001b[39m(string)\n\u001b[1;32m----> 4\u001b[0m \u001b[39mfor\u001b[39;00m i \u001b[39min\u001b[39;00m \u001b[39mrange\u001b[39;49m(\u001b[39m\"\u001b[39;49m\u001b[39miter\u001b[39;49m\u001b[39m\"\u001b[39;49m):\n\u001b[0;32m      5\u001b[0m     \u001b[39mif\u001b[39;00m(i\u001b[39m==\u001b[39m\u001b[39m\"\u001b[39m\u001b[39my\u001b[39m\u001b[39m\"\u001b[39m):\n\u001b[0;32m      6\u001b[0m         \u001b[39mcontinue\u001b[39;00m\n",
      "\u001b[1;31mTypeError\u001b[0m: 'str' object cannot be interpreted as an integer"
     ]
    }
   ],
   "source": [
    "string = \"Python\"\n",
    "Iter = iter(string)\n",
    "\n",
    "for i in range(\"iter\"):\n",
    "    if(i==\"y\"):\n",
    "        continue\n",
    "    print(i)\n"
   ]
  },
  {
   "cell_type": "code",
   "execution_count": null,
   "metadata": {},
   "outputs": [],
   "source": []
  },
  {
   "cell_type": "code",
   "execution_count": 2,
   "metadata": {},
   "outputs": [
    {
     "data": {
      "text/plain": [
       "['orange', 'musk melon', 'banana']"
      ]
     },
     "execution_count": 2,
     "metadata": {},
     "output_type": "execute_result"
    }
   ],
   "source": [
    "fruit=['apple','orange','musk melon','banana']\n",
    "new_list=[x for x in fruit if \"n\" in x]\n",
    "new_list\n"
   ]
  },
  {
   "cell_type": "code",
   "execution_count": 1,
   "metadata": {},
   "outputs": [
    {
     "name": "stdout",
     "output_type": "stream",
     "text": [
      "72 bytes\n",
      "56 bytes\n"
     ]
    }
   ],
   "source": [
    "import sys\n",
    "a_list=[]\n",
    "a_tuple=()\n",
    "a_list=[1,5]\n",
    "a_tuple=(1,5)\n",
    "print(sys.getsizeof(a_list),\"bytes\")\n",
    "print(sys.getsizeof(a_tuple),\"bytes\")\n"
   ]
  },
  {
   "cell_type": "code",
   "execution_count": 18,
   "metadata": {},
   "outputs": [
    {
     "name": "stdout",
     "output_type": "stream",
     "text": [
      "{1, 2, 3, 4, 5}\n",
      "{1, 2, 3, 4, 5, 6}\n",
      "{1, 2, 3, 4, 5, 6, 7}\n"
     ]
    }
   ],
   "source": [
    "people={1,2,3,4,5}\n",
    "print(people)\n",
    "people.add(6)\n",
    "for i in range(6,8):\n",
    "    people.add(i)\n",
    "    print(people)"
   ]
  },
  {
   "cell_type": "code",
   "execution_count": 23,
   "metadata": {},
   "outputs": [
    {
     "name": "stdout",
     "output_type": "stream",
     "text": [
      "{'c', 'b', 'd', 'a', 'e', 'f'}\n",
      "{'i', 'g', 'h', 'd', 'e', 'f'}\n"
     ]
    }
   ],
   "source": [
    "people={'a','b','c'}\n",
    "boys={'d','e','f'}\n",
    "legend={'g','h','i'}\n",
    "population=people.union(boys)\n",
    "print(population)\n",
    "population=boys|legend\n",
    "print(population)"
   ]
  },
  {
   "cell_type": "code",
   "execution_count": 37,
   "metadata": {},
   "outputs": [
    {
     "data": {
      "text/plain": [
       "{0, 1, 2, 3}"
      ]
     },
     "execution_count": 37,
     "metadata": {},
     "output_type": "execute_result"
    }
   ],
   "source": [
    "set1=set()\n",
    "set2=set()\n",
    "for i in range(5):\n",
    "    set1.add(i)\n",
    "for i in range(4,9):\n",
    "        set2.add(i)\n",
    "set3=set1-set2\n",
    "set3"
   ]
  },
  {
   "cell_type": "code",
   "execution_count": 5,
   "metadata": {},
   "outputs": [
    {
     "name": "stdout",
     "output_type": "stream",
     "text": [
      "{0: 'tabrez', 5: 'hi', 1: 1, 2: 4, 3: 9, 4: 16, 6: 36, 7: 49, 8: 64, 9: 81}\n"
     ]
    }
   ],
   "source": [
    "d={}\n",
    "for i in range(10):\n",
    "    d[i]=i*i\n",
    "    d.update({5:\"hi\",0:\"tabrez\"})\n",
    "print(d)\n",
    "\n",
    "\n",
    "\n",
    "\n",
    "\n",
    "\n"
   ]
  },
  {
   "cell_type": "code",
   "execution_count": 4,
   "metadata": {},
   "outputs": [
    {
     "name": "stdout",
     "output_type": "stream",
     "text": [
      "<_io.TextIOWrapper name='b.txt' mode='r' encoding='cp1252'>\n"
     ]
    }
   ],
   "source": [
    "# file_handler=open(r\"suswit/b.txt\",\"r\")\n",
    "\n",
    "file_handler=open(\"b.txt\",\"r\")\n",
    "print(file_handler)\n"
   ]
  },
  {
   "cell_type": "code",
   "execution_count": 15,
   "metadata": {},
   "outputs": [
    {
     "name": "stdout",
     "output_type": "stream",
     "text": [
      "Yeah ! Your answer is : 1\n"
     ]
    }
   ],
   "source": [
    "def divide(x, y):\n",
    "    try:\n",
    "        result = x // y\n",
    "        print(\"Yeah ! Your answer is :\", result)\n",
    "    except ZeroDivisionError:\n",
    "        print(\"sorry ! You are dividing by zero\",)\n",
    "divide(3,2)        "
   ]
  },
  {
   "cell_type": "code",
   "execution_count": 30,
   "metadata": {},
   "outputs": [
    {
     "name": "stdout",
     "output_type": "stream",
     "text": [
      "You can not get take the square root of a negative number \n"
     ]
    }
   ],
   "source": [
    "import math\n",
    "try:\n",
    "    print(math.sqrt(-1))\n",
    "except ValueError:\n",
    "    print('You can not get take the square root of a negative number ')\n"
   ]
  },
  {
   "cell_type": "code",
   "execution_count": 51,
   "metadata": {},
   "outputs": [
    {
     "name": "stdout",
     "output_type": "stream",
     "text": [
      "finally block\n"
     ]
    }
   ],
   "source": [
    "def func():\n",
    "    try:\n",
    "        file_handler = open(\"b.txt\",\"w\")\n",
    "        file_handler.write(\"Hello Python\")\n",
    "        # file_handler.close()\n",
    "    except:\n",
    "        print(\"Exception raised\")\n",
    "    finally:\n",
    "        print(\"finally block\")\n",
    "        file_handler.close()\n",
    "func()"
   ]
  },
  {
   "cell_type": "code",
   "execution_count": 61,
   "metadata": {},
   "outputs": [
    {
     "ename": "NameError",
     "evalue": "Exception Raised from function",
     "output_type": "error",
     "traceback": [
      "\u001b[1;31m---------------------------------------------------------------------------\u001b[0m",
      "\u001b[1;31mNameError\u001b[0m                                 Traceback (most recent call last)",
      "Cell \u001b[1;32mIn[61], line 6\u001b[0m\n\u001b[0;32m      3\u001b[0m         \u001b[39mraise\u001b[39;00m \u001b[39mNameError\u001b[39;00m(\u001b[39m\"\u001b[39m\u001b[39mException Raised from function\u001b[39m\u001b[39m\"\u001b[39m)\n\u001b[0;32m      4\u001b[0m     \u001b[39m# except:\u001b[39;00m\n\u001b[0;32m      5\u001b[0m     \u001b[39m#     print(\"Exception\")\u001b[39;00m\n\u001b[1;32m----> 6\u001b[0m func()\n",
      "Cell \u001b[1;32mIn[61], line 3\u001b[0m, in \u001b[0;36mfunc\u001b[1;34m()\u001b[0m\n\u001b[0;32m      1\u001b[0m \u001b[39mdef\u001b[39;00m \u001b[39mfunc\u001b[39m():\n\u001b[1;32m----> 3\u001b[0m         \u001b[39mraise\u001b[39;00m \u001b[39mNameError\u001b[39;00m(\u001b[39m\"\u001b[39m\u001b[39mException Raised from function\u001b[39m\u001b[39m\"\u001b[39m)\n",
      "\u001b[1;31mNameError\u001b[0m: Exception Raised from function"
     ]
    }
   ],
   "source": [
    "def func():\n",
    "    \n",
    "        raise NameError(\"Exception Raised from function\")\n",
    "    # except:\n",
    "    #     print(\"Exception\")\n",
    "func()"
   ]
  },
  {
   "cell_type": "code",
   "execution_count": 33,
   "metadata": {},
   "outputs": [
    {
     "name": "stdout",
     "output_type": "stream",
     "text": [
      "Google Pixel 6 799\n",
      "Google Pixel 6 $699 \n",
      "Google Pixel 5 699\n",
      "Google Pixel 4a 5G 499\n",
      "Google Pixel 4 799\n",
      "Google Pixel 5 699\n",
      "Google Pixel 5 699\n"
     ]
    }
   ],
   "source": [
    "import csv\n",
    "i = 0\n",
    "\n",
    "with open(\"C:/Users/User6/Desktop/CSV.file/Mobile phone price.csv\",\"r\")as file:\n",
    "    data = csv.reader(file)\n",
    "    for line in data:\n",
    "        #print(line)\n",
    "        if line[0] == \"Google\":\n",
    "            print(line[0],line[1],line[7])"
   ]
  },
  {
   "cell_type": "code",
   "execution_count": 36,
   "metadata": {},
   "outputs": [
    {
     "name": "stdout",
     "output_type": "stream",
     "text": [
      "Apple iPhone 13 Pro 999\n",
      "Google Pixel 6 799\n",
      "Apple iPhone 13 799\n",
      "Vivo X70 Pro+ 1199\n",
      "Apple iPhone 12 Mini 699\n",
      "Vivo Y20s (G) 199\n",
      "Apple iPhone 11 599\n",
      "Vivo Y12s (2021) 139\n",
      "Apple iPhone SE (2nd Gen) 399\n",
      "Vivo Y33s 279\n",
      "Apple iPhone XR 499\n",
      "Apple iPhone 12 Mini 699\n",
      "Vivo V21e 369\n",
      "Apple iPhone 11 Pro Max 1099\n",
      "Vivo Y20G 169\n",
      "Apple iPhone 13 Pro Max 1299\n",
      "Vivo Y33 249\n",
      "Apple iPhone SE (2020) 399\n",
      "Vivo Y53s 269\n",
      "Apple iPhone XR 499\n",
      "Vivo Y21s 179\n",
      "Apple iPhone 11 599\n",
      "Vivo X60 Pro 799\n",
      "Apple iPhone 13 $799 \n",
      "Google Pixel 6 $699 \n",
      "Vivo X70 Pro+ $999 \n",
      "Vivo Y33s $269 \n",
      "Vivo Y12A $139 \n",
      "Vivo Y20G $179 \n",
      "Vivo Y33s $279 \n",
      "Vivo Y12s $149 \n",
      "Vivo Y53s $299 \n",
      "Vivo Y21s $179 \n",
      "Vivo V21e $369 \n",
      "Vivo V21 5G $499 \n",
      "Vivo V21e 5G $329 \n",
      "Vivo V21 5G $399 \n",
      "Vivo Y33s $249 \n",
      "Vivo Y72 5G $339 \n",
      "Vivo Y12s $149 \n",
      "Vivo Y33s $289 \n",
      "Vivo Y20s G $209 \n",
      "Vivo Y31s $239 \n",
      "Vivo V21 5G $469 \n",
      "Vivo V20 SE $319 \n",
      "Vivo Y12s $149 \n",
      "Vivo Y51A $289 \n",
      "Vivo Y20s $249 \n",
      "Vivo Y20G $229 \n",
      "Vivo Y15 $189 \n",
      "Apple iPhone SE (2020) 399\n",
      "Google Pixel 5 699\n",
      "Apple iPhone 11 Pro Max 1099\n",
      "Google Pixel 4a 5G 499\n",
      "Apple iPhone 13 799\n",
      "Apple iPhone XR 599\n",
      "Google Pixel 4 799\n",
      "Apple iPhone 12 799\n",
      "Apple iPhone 11 699\n",
      "Google Pixel 5 699\n",
      "Apple iPhone SE (2020) 399\n",
      "Apple iPhone XS Max 1099\n",
      "Apple iPhone 8 Plus 699\n",
      "Apple iPhone XR 499\n",
      "Apple iPhone 11 Pro Max 1099\n",
      "Apple iPhone 12 mini 899\n",
      "Apple iPhone SE (2020) 449\n",
      "Apple iPhone 12 Pro 999\n",
      "Apple iPhone 11 749\n",
      "Google Pixel 5 699\n",
      "Apple iPhone XR 599\n",
      "Apple iPhone 12 Pro Max 1099\n"
     ]
    }
   ],
   "source": [
    "import csv\n",
    "i = 0\n",
    "\n",
    "with open(\"C:/Users/User6/Desktop/CSV.file/Mobile phone price.csv\",\"r\")as file:\n",
    "    data = csv.reader(file)\n",
    "    for line in data:\n",
    "        #print(line)\n",
    "        if line[0] == \"Google\":\n",
    "            print(line[0],line[1],line[7])\n",
    "        if line[0] == \"Apple\":\n",
    "            print(line[0],line[1],line[7])\n",
    "        if line[0] == \"Vivo\":\n",
    "            print(line[0],line[1],line[7])"
   ]
  },
  {
   "cell_type": "code",
   "execution_count": 47,
   "metadata": {},
   "outputs": [
    {
     "name": "stdout",
     "output_type": "stream",
     "text": [
      "Samsung\n",
      "Samsung\n",
      "Samsung\n",
      "Samsung\n",
      "Samsung\n",
      "Samsung\n",
      "Samsung\n",
      "Samsung\n",
      "Samsung\n",
      "Samsung\n",
      "Samsung\n",
      "Samsung\n",
      "Samsung\n",
      "Samsung\n",
      "Samsung\n",
      "Samsung\n",
      "Samsung\n",
      "Samsung\n",
      "Samsung\n",
      "Samsung\n",
      "Samsung\n",
      "Samsung\n",
      "Samsung\n",
      "Samsung\n",
      "Samsung\n",
      "Samsung\n",
      "Samsung\n",
      "Samsung\n",
      "Samsung\n",
      "Samsung\n",
      "Samsung\n",
      "Samsung\n",
      "Samsung\n",
      "Samsung\n",
      "Samsung\n",
      "Samsung\n",
      "Samsung\n",
      "Samsung\n",
      "Samsung\n",
      "Samsung\n",
      "Samsung\n",
      "Samsung\n",
      "Samsung\n",
      "Samsung\n",
      "Samsung\n",
      "Samsung\n",
      "Samsung\n",
      "Samsung\n",
      "Samsung\n",
      "Samsung\n",
      "Samsung\n",
      "Samsung\n",
      "Samsung\n",
      "Samsung\n",
      "Samsung\n",
      "Samsung\n",
      "Samsung\n",
      "Samsung\n",
      "Samsung\n",
      "Samsung\n",
      "Samsung\n",
      "Samsung\n",
      "Samsung\n",
      "Samsung\n",
      "Samsung\n",
      "Samsung\n",
      "Samsung\n",
      "Samsung\n",
      "Samsung\n",
      "Samsung\n",
      "Samsung\n",
      "Samsung\n",
      "Samsung\n",
      "Samsung\n",
      "Samsung\n",
      "Samsung\n",
      "Samsung\n",
      "Samsung\n",
      "Samsung\n",
      "Samsung\n",
      "Samsung\n",
      "Samsung\n",
      "Samsung\n",
      "Samsung\n",
      "Samsung\n",
      "Samsung\n",
      "Samsung\n",
      "Samsung\n",
      "Samsung\n",
      "Samsung\n",
      "Samsung\n",
      "Samsung\n",
      "Samsung\n",
      "Samsung\n",
      "Samsung\n",
      "Samsung\n",
      "Samsung\n",
      "Samsung\n",
      "Samsung\n",
      "Samsung\n",
      "Samsung\n",
      "Samsung\n",
      "Samsung\n",
      "Samsung\n",
      "Samsung\n",
      "Samsung\n",
      "Samsung\n",
      "Samsung\n",
      "Samsung\n",
      "Samsung\n",
      "Samsung\n",
      "Samsung\n",
      "Samsung\n",
      "Samsung\n",
      "Samsung\n",
      "Samsung\n",
      "Samsung\n",
      "Samsung\n",
      "Samsung\n",
      "Samsung\n",
      "Samsung\n",
      "Samsung\n",
      "Samsung\n",
      "Samsung\n",
      "Samsung\n",
      "Samsung\n",
      "Samsung\n",
      "Samsung\n",
      "Samsung\n",
      "Samsung\n",
      "Samsung\n",
      "Samsung\n",
      "Samsung\n",
      "Samsung\n",
      "Samsung\n",
      "Samsung\n",
      "Samsung\n",
      "Samsung\n",
      "Samsung\n",
      "Samsung\n",
      "Samsung\n",
      "Samsung\n",
      "Samsung\n",
      "Samsung\n",
      "Samsung\n",
      "Samsung\n",
      "Samsung\n",
      "Samsung\n",
      "Samsung\n",
      "Samsung\n",
      "Samsung\n",
      "Samsung\n",
      "Samsung\n",
      "Samsung\n",
      "Samsung\n",
      "Samsung\n",
      "Samsung\n",
      "Samsung\n",
      "Samsung\n",
      "Samsung\n",
      "Samsung\n",
      "Samsung\n",
      "Samsung\n",
      "Samsung\n",
      "Samsung\n",
      "Samsung\n",
      "Samsung\n",
      "Samsung\n",
      "Samsung\n",
      "Samsung\n",
      "Samsung\n",
      "Samsung\n",
      "Samsung\n",
      "Samsung\n",
      "Samsung\n",
      "Samsung\n",
      "Samsung\n",
      "Samsung\n",
      "Samsung\n",
      "Samsung\n",
      "Samsung\n",
      "Samsung\n",
      "Samsung\n",
      "Samsung\n",
      "Samsung\n",
      "Samsung\n",
      "Samsung\n",
      "Samsung\n",
      "Samsung\n",
      "Samsung\n",
      "Samsung\n",
      "Samsung\n",
      "Samsung\n",
      "Samsung\n",
      "Samsung\n",
      "Samsung\n",
      "Samsung\n",
      "Samsung\n",
      "Samsung\n",
      "Samsung\n",
      "Samsung\n",
      "Samsung\n",
      "Samsung\n",
      "Samsung\n",
      "Samsung\n",
      "Samsung\n",
      "Samsung\n",
      "Samsung\n",
      "Samsung\n",
      "Samsung\n",
      "Samsung\n",
      "Samsung\n",
      "Samsung\n",
      "Samsung\n",
      "Samsung\n",
      "Samsung\n",
      "Samsung\n",
      "Samsung\n",
      "Samsung\n",
      "Samsung\n",
      "Samsung\n",
      "Samsung\n",
      "Samsung\n",
      "Samsung\n",
      "Samsung\n",
      "Samsung\n",
      "Samsung\n",
      "Samsung\n",
      "Samsung\n",
      "Samsung\n",
      "Samsung\n",
      "Samsung\n",
      "Samsung\n",
      "Samsung\n",
      "Samsung\n",
      "Samsung\n",
      "Samsung\n",
      "Samsung\n",
      "Samsung\n",
      "Samsung\n",
      "Samsung\n",
      "Samsung\n",
      "Samsung\n",
      "Samsung\n",
      "Samsung\n",
      "Samsung\n",
      "Samsung\n",
      "Samsung\n",
      "Samsung\n",
      "Samsung\n",
      "Samsung\n",
      "Samsung\n",
      "Samsung\n",
      "Samsung\n",
      "Samsung\n",
      "Samsung\n",
      "Samsung\n",
      "Samsung\n",
      "Samsung\n",
      "Samsung\n",
      "Samsung\n",
      "Samsung\n",
      "Samsung\n",
      "Samsung\n",
      "Samsung\n",
      "Samsung\n",
      "Samsung\n",
      "Samsung\n",
      "Samsung\n",
      "Samsung\n",
      "Samsung\n",
      "Samsung\n",
      "Samsung\n",
      "Samsung\n",
      "Samsung\n",
      "Samsung\n",
      "Samsung\n",
      "Samsung\n",
      "Samsung\n",
      "Samsung\n",
      "Samsung\n",
      "Samsung\n",
      "Samsung\n",
      "Samsung\n",
      "Samsung\n",
      "Samsung\n",
      "Samsung\n",
      "Samsung\n",
      "Samsung\n",
      "Samsung\n",
      "Samsung\n",
      "Samsung\n",
      "Samsung\n",
      "Samsung\n",
      "Samsung\n",
      "Samsung\n",
      "Samsung\n",
      "Samsung\n",
      "Samsung\n",
      "Samsung\n",
      "Samsung\n",
      "Samsung\n",
      "Samsung\n",
      "Samsung\n",
      "Samsung\n",
      "Samsung\n",
      "Samsung\n",
      "Samsung\n",
      "Samsung\n",
      "Samsung\n",
      "Samsung\n",
      "Samsung\n",
      "Samsung\n",
      "Samsung\n",
      "Samsung\n",
      "Samsung\n",
      "Samsung\n",
      "Samsung\n",
      "Samsung\n",
      "Samsung\n",
      "Samsung\n",
      "Samsung\n",
      "Samsung\n",
      "Samsung\n",
      "Samsung\n",
      "Samsung\n",
      "Samsung\n",
      "Samsung\n",
      "Samsung\n",
      "Samsung\n",
      "Samsung\n",
      "Samsung\n",
      "Samsung\n",
      "Samsung\n",
      "Samsung\n",
      "Samsung\n",
      "Samsung\n",
      "Samsung\n",
      "Samsung\n",
      "Samsung\n",
      "Samsung\n",
      "Samsung\n",
      "Samsung\n",
      "Samsung\n",
      "Samsung\n",
      "Samsung\n",
      "Samsung\n",
      "Samsung\n",
      "Samsung\n",
      "Samsung\n",
      "Samsung\n",
      "Samsung\n",
      "Samsung\n",
      "Samsung\n",
      "Samsung\n",
      "Samsung\n",
      "Samsung\n",
      "Samsung\n",
      "Samsung\n",
      "Samsung\n",
      "Samsung\n",
      "Samsung\n",
      "Samsung\n",
      "Samsung\n",
      "Samsung\n",
      "Samsung\n",
      "Samsung\n",
      "Samsung\n",
      "Samsung\n",
      "Samsung\n",
      "Samsung\n",
      "Samsung\n",
      "Samsung\n",
      "Samsung\n",
      "Samsung\n",
      "Samsung\n",
      "Samsung\n",
      "Samsung\n",
      "Samsung\n",
      "Samsung\n",
      "Samsung\n",
      "Samsung\n",
      "Samsung\n",
      "Samsung\n",
      "Samsung\n",
      "Samsung\n",
      "Samsung\n",
      "Samsung\n",
      "Samsung\n",
      "Samsung\n",
      "Samsung\n",
      "Samsung\n",
      "Samsung\n",
      "Samsung\n",
      "Samsung\n",
      "Samsung\n",
      "Samsung\n",
      "Samsung\n",
      "Samsung\n",
      "Samsung\n",
      "Samsung\n",
      "Samsung\n",
      "Samsung\n",
      "Samsung\n",
      "Samsung\n",
      "Samsung\n",
      "Samsung\n",
      "Samsung\n"
     ]
    }
   ],
   "source": [
    "import csv\n",
    "i = 0\n",
    "\n",
    "with open(\"C:/Users/User6/Desktop/CSV.file/Mobile phone price.csv\",\"r\")as file:\n",
    "    data = csv.reader(file)\n",
    "    for line in data:\n",
    "        #print(line)\n",
    "        count = 0\n",
    "        while(count<1):\n",
    "            count = count + 1\n",
    "            print(\"Samsung\")"
   ]
  },
  {
   "cell_type": "code",
   "execution_count": null,
   "metadata": {},
   "outputs": [],
   "source": [
    "import csv\n",
    "i = 0\n",
    "\n",
    "with open(\"C:/Users/User6/Desktop/CSV.file/Mobile phone price.csv\",\"r\")as file:\n",
    "    data = csv.reader(file)\n",
    "    for line in data:\n",
    "        print(line)\n",
    "        "
   ]
  }
 ],
 "metadata": {
  "kernelspec": {
   "display_name": "Python 3",
   "language": "python",
   "name": "python3"
  },
  "language_info": {
   "codemirror_mode": {
    "name": "ipython",
    "version": 3
   },
   "file_extension": ".py",
   "mimetype": "text/x-python",
   "name": "python",
   "nbconvert_exporter": "python",
   "pygments_lexer": "ipython3",
   "version": "3.11.2"
  },
  "orig_nbformat": 4
 },
 "nbformat": 4,
 "nbformat_minor": 2
}
