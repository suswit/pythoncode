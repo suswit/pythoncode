{
 "cells": [
  {
   "cell_type": "code",
   "execution_count": 2,
   "metadata": {},
   "outputs": [
    {
     "name": "stdout",
     "output_type": "stream",
     "text": [
      "5 Is Odd Number\n"
     ]
    }
   ],
   "source": [
    "#TO FIND THE GIVEN NUMBER IS EVEN OR ODD\n",
    "\n",
    "f = 5\n",
    "f= 5\n",
    "\n",
    "    \n",
    "if f % 2 == 0:\n",
    "    print(f,\"Is Even Number\")\n",
    "else:\n",
    "    print(f, \"Is Odd Number\")"
   ]
  },
  {
   "cell_type": "code",
   "execution_count": 10,
   "metadata": {},
   "outputs": [
    {
     "name": "stdout",
     "output_type": "stream",
     "text": [
      "The Principal Amount is 7500\n",
      "The Time Period is 5.8\n",
      "The Rate of Interest is 4\n",
      "The simple interst is 1740.0\n"
     ]
    }
   ],
   "source": [
    "#TO FIND SIMPLE INTEREST FOR THE PRINCIPAL OF 7500\n",
    "\n",
    "def simple_interest(principal,rate,time):\n",
    "    print('The Principal Amount is', principal)\n",
    "    print('The Time Period is', time)\n",
    "    print('The Rate of Interest is', rate)\n",
    "\n",
    "    si=(principal*rate*time)/100\n",
    "\n",
    "    print('The simple interst is', si)\n",
    "\n",
    "    n=si\n",
    "\n",
    "simple_interest(7500,4,5.8)\n"
   ]
  },
  {
   "cell_type": "code",
   "execution_count": 18,
   "metadata": {},
   "outputs": [
    {
     "name": "stdout",
     "output_type": "stream",
     "text": [
      "11\n"
     ]
    }
   ],
   "source": [
    "#TO FIND THE LARGEST AMONG THE THREE NUMBERS\n",
    "\n",
    "def maximum(num1, num2, num3):\n",
    " \n",
    "    if (num1>= num2) and (num1 >= num3):\n",
    "        largest = num1\n",
    " \n",
    "    elif (num2 >= num1) and (num2 >= num3):\n",
    "        largest = num2\n",
    "    else:\n",
    "        largest = num3\n",
    "         \n",
    "    return largest\n",
    " \n",
    "num1 = 9\n",
    "num2 = 11\n",
    "num3 = 3\n",
    "print(maximum(num1, num2, num3))"
   ]
  },
  {
   "cell_type": "code",
   "execution_count": 20,
   "metadata": {},
   "outputs": [
    {
     "name": "stdout",
     "output_type": "stream",
     "text": [
      "12 is not a prime number\n"
     ]
    }
   ],
   "source": [
    "#TO FIND THWE NUMBER IS PRIME OR NOT\n",
    "\n",
    "num = 12\n",
    "\n",
    "if num > 1:\n",
    "    \n",
    "    for i in range(2, int(num**0.5)+1):\n",
    "        \n",
    "        \n",
    "        if (num % i) == 0:\n",
    "            print(num, \"is not a prime number\")\n",
    "            break\n",
    "    else:\n",
    "        print(num, \"is a prime number\")\n",
    "else:\n",
    "    print(num, \"is not a prime number\")"
   ]
  },
  {
   "cell_type": "code",
   "execution_count": 3,
   "metadata": {},
   "outputs": [
    {
     "name": "stdout",
     "output_type": "stream",
     "text": [
      "{'name': 'moses', 'age': 20, 'country': 'united kingdom'}\n"
     ]
    }
   ],
   "source": [
    "#TO CONVERT TWO LISTS I8NTO DICTIONARY\n",
    "\n",
    "def list_to_dict(keys,values):\n",
    "    dictionary = dict(zip(keys,values))\n",
    "    return dictionary\n",
    "keys=[\"name\",\"age\",\"country\"]\n",
    "values=[\"moses\",20,\"united kingdom\"]\n",
    "result=list_to_dict(keys,values)\n",
    "print(result)"
   ]
  },
  {
   "cell_type": "code",
   "execution_count": 22,
   "metadata": {},
   "outputs": [
    {
     "name": "stdout",
     "output_type": "stream",
     "text": [
      "unique_elements: {2, 4, 5, 7, 8, 9}\n"
     ]
    }
   ],
   "source": [
    "#TO FIND THE UNIQUE ELEMENTS IN THE TWO SETS\n",
    "\n",
    "def find_unique_elements(set1,set2):\n",
    "    unique_elements=set1.symmetric_difference(set2)\n",
    "    return unique_elements\n",
    "set1={1,2,3,4,5}\n",
    "set2={3,7,9,8,1}\n",
    "unique_elements=find_unique_elements(set1,set2)\n",
    "print(\"unique_elements:\",unique_elements)"
   ]
  }
 ],
 "metadata": {
  "kernelspec": {
   "display_name": "Python 3",
   "language": "python",
   "name": "python3"
  },
  "language_info": {
   "codemirror_mode": {
    "name": "ipython",
    "version": 3
   },
   "file_extension": ".py",
   "mimetype": "text/x-python",
   "name": "python",
   "nbconvert_exporter": "python",
   "pygments_lexer": "ipython3",
   "version": "3.11.2"
  },
  "orig_nbformat": 4
 },
 "nbformat": 4,
 "nbformat_minor": 2
}
