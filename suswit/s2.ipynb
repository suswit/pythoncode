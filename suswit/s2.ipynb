{
 "cells": [
  {
   "cell_type": "code",
   "execution_count": 4,
   "metadata": {},
   "outputs": [
    {
     "name": "stdout",
     "output_type": "stream",
     "text": [
      "['mango']\n"
     ]
    }
   ],
   "source": [
    "fruits = [\"apple\", \"banana\", \"cherry\", \"mango\"]\n",
    "newlist = []\n",
    "\n",
    "for x in fruits:\n",
    "    if \"m\" in x:\n",
    "        newlist.append(x)\n",
    "\n",
    "print(newlist)"
   ]
  },
  {
   "cell_type": "code",
   "execution_count": 5,
   "metadata": {},
   "outputs": [
    {
     "name": "stdout",
     "output_type": "stream",
     "text": [
      "(5, 'Welcome', 7, 'Students')\n",
      "[1, 2, 'Hello']\n"
     ]
    }
   ],
   "source": [
    "tuple1 = (5,'Welcome',7,'Students')\n",
    "print(tuple1)\n",
    "list1=[1,2,'Hello']\n",
    "print(list1)\n"
   ]
  },
  {
   "cell_type": "code",
   "execution_count": 6,
   "metadata": {},
   "outputs": [
    {
     "name": "stdout",
     "output_type": "stream",
     "text": [
      "64\n",
      "28\n"
     ]
    }
   ],
   "source": [
    "import sys\n",
    "\n",
    "list1=[1]\n",
    "tuple1=(1)\n",
    "print(sys.getsizeof(list1))\n",
    "print(sys.getsizeof(tuple1))"
   ]
  },
  {
   "cell_type": "code",
   "execution_count": 9,
   "metadata": {},
   "outputs": [
    {
     "name": "stdout",
     "output_type": "stream",
     "text": [
      "{'2', '1', '3'}\n",
      "{'2', '1', '3', 'Python'}\n"
     ]
    }
   ],
   "source": [
    "people = {\"1\",\"2\",\"3\"}\n",
    "print(people)\n",
    "\n",
    "people.add(\"Python\")\n",
    "print(people)"
   ]
  },
  {
   "cell_type": "code",
   "execution_count": 8,
   "metadata": {},
   "outputs": [
    {
     "name": "stdout",
     "output_type": "stream",
     "text": [
      "Union using union() function\n",
      "{'2', '7', '4', '6', '3', '1', '5'}\n",
      "{'2', '4', '8', '3', '9', '1', '5'}\n"
     ]
    }
   ],
   "source": [
    "people={\"1\",\"2\",\"3\",\"4\",\"5\"}\n",
    "vampires={\"6\",\"7\"}\n",
    "dracula={\"8\",\"9\"}\n",
    "\n",
    "population = people.union(vampires)\n",
    "\n",
    "print(\"Union using union() function\")\n",
    "print(population)\n",
    "\n",
    "population = people|dracula\n",
    "\n",
    "print(population)"
   ]
  },
  {
   "cell_type": "code",
   "execution_count": 16,
   "metadata": {},
   "outputs": [
    {
     "name": "stdout",
     "output_type": "stream",
     "text": [
      "{3, 4}\n"
     ]
    }
   ],
   "source": [
    "set1 = set()\n",
    "set2 = set()\n",
    "for i in range(5):\n",
    "    set1.add(i)\n",
    "\n",
    "for i in range(3,9):\n",
    "    set2.add(i)\n",
    "\n",
    "set3 = set1.intersection(set2)\n",
    "\n",
    "# print(\"Intersection using intersection() function\")\n",
    "# print(set3)\n",
    "\n",
    "# set3 = set1 & set2\n",
    "# print(\"\\nintersection using '&' operator\")\n",
    "print(set3)"
   ]
  },
  {
   "cell_type": "code",
   "execution_count": 19,
   "metadata": {},
   "outputs": [
    {
     "name": "stdout",
     "output_type": "stream",
     "text": [
      "{8, 5, 6, 7}\n"
     ]
    }
   ],
   "source": [
    "set1 = set()\n",
    "set2 = set()\n",
    "for i in range(5):\n",
    "    set1.add(i)\n",
    "\n",
    "for i in range(3,9):\n",
    "    set2.add(i)\n",
    "\n",
    "set3 = set2-set1\n",
    "\n",
    "# print(\"Intersection using intersection() function\")\n",
    "# print(set3)\n",
    "\n",
    "# set3 = set1 - set2\n",
    "# print(\"\\nintersection using '&' operator\")\n",
    "print(set3)"
   ]
  },
  {
   "cell_type": "code",
   "execution_count": null,
   "metadata": {},
   "outputs": [],
   "source": []
  }
 ],
 "metadata": {
  "kernelspec": {
   "display_name": "base",
   "language": "python",
   "name": "python3"
  },
  "language_info": {
   "codemirror_mode": {
    "name": "ipython",
    "version": 3
   },
   "file_extension": ".py",
   "mimetype": "text/x-python",
   "name": "python",
   "nbconvert_exporter": "python",
   "pygments_lexer": "ipython3",
   "version": "3.9.13"
  },
  "orig_nbformat": 4
 },
 "nbformat": 4,
 "nbformat_minor": 2
}
