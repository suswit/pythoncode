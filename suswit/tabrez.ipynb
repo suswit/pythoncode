{
 "cells": [
  {
   "cell_type": "code",
   "execution_count": 26,
   "metadata": {},
   "outputs": [
    {
     "name": "stdout",
     "output_type": "stream",
     "text": [
      "4 num is even\n"
     ]
    }
   ],
   "source": [
    "#program to find the given number n by user is even or odd\n",
    "\n",
    "def evenOdd(n):\n",
    "\n",
    "    #if remainder is0 then num is even\n",
    "    if(n % 2 == 0):\n",
    "        return True\n",
    "\n",
    "    #if remainder is 1 thennum is odd\n",
    "    elif(n %2 != 0):\n",
    "        return False\n",
    "    else:\n",
    "        return evenOdd(n)\n",
    "    \n",
    "\n",
    "num = 4\n",
    "if(evenOdd( num )):\n",
    "    print(num ,\"num is even\")\n",
    "else:\n",
    "    print(num ,\"num is odd\")"
   ]
  },
  {
   "cell_type": "code",
   "execution_count": 27,
   "metadata": {},
   "outputs": [
    {
     "name": "stdout",
     "output_type": "stream",
     "text": [
      "Original key list is : ['A', 'B', 'C']\n",
      "Original value list is : [7, 8, 6]\n",
      "Resultant dictionary is : {'A': 7, 'B': 8, 'C': 6}\n"
     ]
    }
   ],
   "source": [
    "#program to convert two list into dictionary\n",
    "\n",
    "# initializing lists\n",
    "test_keys = [\"A\", \"B\", \"C\"]\n",
    "test_values = [7, 8, 6]\n",
    "\n",
    "# Printing original keys-value lists\n",
    "print(\"Original key list is : \" + str(test_keys))\n",
    "print(\"Original value list is : \" + str(test_values))\n",
    "\n",
    "res = dict(zip(test_keys, test_values))\n",
    "\n",
    "print(\"Resultant dictionary is : \" + str(res))\n"
   ]
  },
  {
   "cell_type": "code",
   "execution_count": 29,
   "metadata": {},
   "outputs": [
    {
     "name": "stdout",
     "output_type": "stream",
     "text": [
      "1024\n"
     ]
    }
   ],
   "source": [
    "#program to find largest of 3 numbers\n",
    "# among the three numbers using library function\n",
    "\n",
    "\n",
    "def maximum(a, b, c):\n",
    "\tlist = [a, b, c]\n",
    "\treturn max(list)\n",
    "\n",
    "\n",
    "a = 486\n",
    "b = 555\n",
    "c = 1024\n",
    "print(maximum(a, b, c))\n",
    "\n"
   ]
  },
  {
   "cell_type": "code",
   "execution_count": 31,
   "metadata": {},
   "outputs": [
    {
     "name": "stdout",
     "output_type": "stream",
     "text": [
      "11 is a prime number\n"
     ]
    }
   ],
   "source": [
    "#program to find prime numbers\n",
    "\n",
    "num = 11\n",
    "# If given number is greater than 1\n",
    "if num > 1:\n",
    "\t\n",
    "\tfor i in range(2, int(num/2)+1):\n",
    "\t\tif (num % i) == 0:\n",
    "\t\t\tprint(num, \"is not a prime number\")\n",
    "\t\t\tbreak\n",
    "\telse:\n",
    "\t\tprint(num, \"is a prime number\")\n",
    "else:\n",
    "\tprint(num, \"is not a prime number\")\n",
    "\n"
   ]
  },
  {
   "cell_type": "code",
   "execution_count": 33,
   "metadata": {},
   "outputs": [
    {
     "name": "stdout",
     "output_type": "stream",
     "text": [
      "1  3  5  7  9  11  13  15  17  19  "
     ]
    }
   ],
   "source": [
    "#program to find odd number\n",
    "\n",
    "start , end = 1 ,20\n",
    "\n",
    "for num in range (start,end+1):\n",
    "    #checking condition\n",
    "    if num % 2 !=0:\n",
    "        print(num,end=\"  \")"
   ]
  }
 ],
 "metadata": {
  "kernelspec": {
   "display_name": "Python 3",
   "language": "python",
   "name": "python3"
  },
  "language_info": {
   "codemirror_mode": {
    "name": "ipython",
    "version": 3
   },
   "file_extension": ".py",
   "mimetype": "text/x-python",
   "name": "python",
   "nbconvert_exporter": "python",
   "pygments_lexer": "ipython3",
   "version": "3.11.2"
  },
  "orig_nbformat": 4
 },
 "nbformat": 4,
 "nbformat_minor": 2
}
